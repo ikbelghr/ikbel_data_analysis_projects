{
 "cells": [
  {
   "cell_type": "markdown",
   "id": "f5fd8aa9",
   "metadata": {},
   "source": [
    "# Web Scraping and Data Analysis of the Top 6 Luxurious Hotels in Tunisia"
   ]
  },
  {
   "cell_type": "markdown",
   "id": "45dc2f10",
   "metadata": {},
   "source": [
    "In a world fueled by data, extracting meaningful insights from the vast expanse of the internet has become a valuable skill. This project marks the inception of a personal endeavor, where the focus is on unraveling the world of Tunisia's most luxurious hotels through web scraping and data analysis.\r\n",
    "\r\n",
    "As of August 15, 2023, the journey begins with the art of web scraping, a technique that allows for the automated extraction of data from websites. The aim is clear: to collect and dissect information from TripAdvisor about the top 6 luxury hotels in Tunisia. This data will serve as the building blocks for an in-depth analysis, shedding light on the nuances that define these opulent establishments.\r\n",
    "\r\n",
    "In a solo pursuit of knowledge, the project delves into the realm of Python programming, employing libraries like BeautifulSoup and Requests. The objective is to navigate the web, collecting essential details such as hotel names, ratings, reviews, and potentially even more intricate insights. This process is a gateway to unraveling the essence of luxury and hospitality offered by these remarkable hotels.\r\n",
    "\r\n",
    "Armed with this data, the project takes a turn into the realm of data analysis. The focus shifts from scraping to interpretation, as patterns, trends, and correlations within the collected information are meticulously unearthed. This analysis aims not only to satiate curiosity but also to contribute to the knowledge base, providing potential travelers with a glimpse into what these hotels have to offer.\r\n",
    "\r\n",
    "Through this solo expedition, the project creator dives into the heart of luxury, curiosity as their compass, and data as their guide. The journey promises to uncover a wealth of information, offering a unique perspective on Tunisia's most luxurious hotels, as of the project's commencement on August 15, 2023."
   ]
  },
  {
   "cell_type": "markdown",
   "id": "97265253",
   "metadata": {},
   "source": [
    "# Installing Necessary Libraries"
   ]
  },
  {
   "cell_type": "markdown",
   "id": "affbed97",
   "metadata": {},
   "source": [
    "Let us start by making sure all necessary Python libraries are installed and imported. You can run the following one-liner code to install the necessary Python packages:\n",
    "\n",
    "```python\n",
    "\n",
    "!pip install requests bs4 numpy pandas\n",
    "```\n",
    "\n",
    "After installation, you can now import the following libraries:"
   ]
  },
  {
   "cell_type": "code",
   "execution_count": 1,
   "id": "fb49d48c",
   "metadata": {
    "ExecuteTime": {
     "end_time": "2023-06-29T02:29:18.480642Z",
     "start_time": "2023-06-29T02:29:18.474097Z"
    }
   },
   "outputs": [],
   "source": [
    "import requests\n",
    "import bs4\n",
    "import numpy as np\n",
    "import pandas as pd\n",
    "import re"
   ]
  },
  {
   "cell_type": "markdown",
   "id": "9eda213c",
   "metadata": {},
   "source": [
    "# Defining Webscraping Functions"
   ]
  },
  {
   "cell_type": "markdown",
   "id": "b4f66882",
   "metadata": {},
   "source": [
    "To begin web scraping, the first step is to determine the main URL of the website from which we intend to extract data. In this scenario, as we are focusing on scraping TripAdvisor.com.ph, we assign the main URL as below. Additionally, we identify the specific URL of the hotel for which we desire to obtain reviews.\n",
    "For this example, we have selected the hotel 'La_Cigale_Tabarka', and the URL of its first page will serve as our starting point."
   ]
  },
  {
   "cell_type": "code",
   "execution_count": 9,
   "id": "9b4bb654",
   "metadata": {
    "ExecuteTime": {
     "end_time": "2023-06-29T03:11:17.075828Z",
     "start_time": "2023-06-29T03:11:17.069169Z"
    }
   },
   "outputs": [],
   "source": [
    "# La_Cigale_Tabarka\n",
    "main = 'https://www.tripadvisor.com.ph'\n",
    "url_first = '/Hotel_Review-g297953-d7309360-Reviews-La_Cigale_Tabarka_Hotel_Thalasso_Spa_Golf-Tabarka_Jendouba_Governorate.html'"
   ]
  },
  {
   "cell_type": "markdown",
   "id": "9e6f1e31",
   "metadata": {},
   "source": [
    "We then define a function, 'get_soup'. "
   ]
  },
  {
   "cell_type": "code",
   "execution_count": 10,
   "id": "41d65ba9",
   "metadata": {
    "ExecuteTime": {
     "end_time": "2023-06-29T03:11:18.653981Z",
     "start_time": "2023-06-29T03:11:18.645740Z"
    }
   },
   "outputs": [],
   "source": [
    "def get_soup(url):\n",
    "    \"\"\"\n",
    "    Return a BeautifulSoup from the input `url`.\n",
    "    \"\"\"\n",
    "    headers = {'User-Agent': 'Mozilla/5.0'}\n",
    "    proxies = {'http': 'http://206.189.157.23'}\n",
    "    soup = bs4.BeautifulSoup(\n",
    "        requests.get(url, headers=headers, proxies=proxies).content\n",
    "    )\n",
    "    return soup"
   ]
  },
  {
   "cell_type": "code",
   "execution_count": 11,
   "id": "801fde44",
   "metadata": {
    "ExecuteTime": {
     "end_time": "2023-06-29T03:11:21.122743Z",
     "start_time": "2023-06-29T03:11:21.108029Z"
    }
   },
   "outputs": [],
   "source": [
    "def get_reviews(soup):\n",
    "    \"\"\"\n",
    "    Extracts reviews, ratings, and dates from the provided BeautifulSoup\n",
    "    object.\n",
    "\n",
    "    Args:\n",
    "        soup (BeautifulSoup): The BeautifulSoup object representing\n",
    "        the parsed HTML content.\n",
    "\n",
    "    Returns:\n",
    "        pandas.DataFrame: A DataFrame containing the extracted reviews,\n",
    "        ratings, and dates.\n",
    "\n",
    "    \"\"\"\n",
    "    review_list = []\n",
    "    for review in soup.find_all('span', class_='QewHA H4 _a'):\n",
    "        review_list.append(review.getText())\n",
    "\n",
    "    rating_list = []\n",
    "    for rating in soup.find_all('div', class_=\"Hlmiy F1\"):\n",
    "        rating_list.append(rating.find('span').get('class')[1])\n",
    "        \n",
    "    date_list = []\n",
    "    for date in soup.find_all('span', class_='teHYY _R Me S4 H3'):\n",
    "        date_list.append(date.getText())\n",
    "    \n",
    "    if ((len(review_list) != len(rating_list)) |\n",
    "        (len(rating_list) != len(date_list)) |\n",
    "         (len(review_list) != len(date_list))):\n",
    "        min_len = min(len(review_list), len(rating_list), len(date_list))\n",
    "        review_list = review_list[:min_len]\n",
    "        rating_list = rating_list[:min_len]\n",
    "        date_list = date_list[:min_len]\n",
    "    df = pd.DataFrame({'reviews': review_list,\n",
    "                       'ratings': rating_list,\n",
    "                       'date': date_list})\n",
    "    return df"
   ]
  },
  {
   "cell_type": "markdown",
   "id": "226144c0",
   "metadata": {},
   "source": [
    "Lastly, another function that is introduced in this article is 'scrape_reviews'. The function scrape_reviews(main, url_first, total_reviews) takes three parameters as input: 'main', which represents the main URL of the website; 'url_first', which is the URL of the first page of the hotel; and 'total_reviews', which specifies the maximum number of reviews to scrape."
   ]
  },
  {
   "cell_type": "code",
   "execution_count": 12,
   "id": "995bd7a0",
   "metadata": {
    "ExecuteTime": {
     "end_time": "2023-06-29T03:11:21.629171Z",
     "start_time": "2023-06-29T03:11:21.612458Z"
    }
   },
   "outputs": [],
   "source": [
    "def scrape_reviews(main, url_first, total_reviews):\n",
    "    \"\"\"\n",
    "    Scrape reviews from multiple pages of a hotel on TripAdvisor.\n",
    "\n",
    "    Args:\n",
    "        main (str): The main URL of the website.\n",
    "        url_first (str): The URL of the first page of the hotel.\n",
    "        total_reviews (int): The maximum number of reviews to scrape.\n",
    "\n",
    "    Returns:\n",
    "        pandas.DataFrame: A DataFrame containing the scraped reviews,\n",
    "        ratings, and dates.\n",
    "    \"\"\"\n",
    "    df_all = pd.DataFrame()\n",
    "    url = main + url_first\n",
    "    soup = get_soup(url)\n",
    "    df_all = get_reviews(soup)\n",
    "\n",
    "    while (len(df_all) <= total_reviews):\n",
    "        try:\n",
    "            next_url = main + (soup.find('a',\n",
    "                                         class_='ui_button nav next primary')\n",
    "                               .get('href'))\n",
    "            next_soup = get_soup(next_url)\n",
    "            df = get_reviews(next_soup)\n",
    "            df_all = pd.concat([df_all, df])\n",
    "            soup = next_soup\n",
    "        except AttributeError:\n",
    "            break\n",
    "    df_all = df_all.reset_index().drop('index', axis=1)\n",
    "    df_all['ratings'] = df_all['ratings'].apply(lambda x:\n",
    "                                                int(re.findall(r'\\d', x)[0]))\n",
    "    df_all['date'] = df_all['date'].apply(lambda x:\n",
    "                            re.findall(r'Date of stay: (\\w+ \\d+)', x)[0])\n",
    "    return df_all\n",
    "    "
   ]
  },
  {
   "cell_type": "markdown",
   "id": "a9068464",
   "metadata": {},
   "source": [
    "# Samples of Web Scraping Results"
   ]
  },
  {
   "cell_type": "markdown",
   "id": "5d870048",
   "metadata": {},
   "source": [
    "## Hotel Name:La_Cigale_Tabarka"
   ]
  },
  {
   "cell_type": "code",
   "execution_count": 14,
   "id": "575bbddf",
   "metadata": {
    "ExecuteTime": {
     "end_time": "2023-06-29T03:32:26.343113Z",
     "start_time": "2023-06-29T03:28:15.451336Z"
    }
   },
   "outputs": [],
   "source": [
    "# main and url_first and defined above\n",
    "df_La_Cigale_Tabarka = scrape_reviews(main, url_first, 1500)"
   ]
  },
  {
   "cell_type": "markdown",
   "id": "e4a2ff7b",
   "metadata": {},
   "source": [
    "We can check on the total number of reviews we are able to scrape using the following function."
   ]
  },
  {
   "cell_type": "code",
   "execution_count": 15,
   "id": "31224e12",
   "metadata": {
    "ExecuteTime": {
     "end_time": "2023-06-29T03:48:50.747055Z",
     "start_time": "2023-06-29T03:48:50.734872Z"
    }
   },
   "outputs": [
    {
     "data": {
      "text/plain": [
       "65"
      ]
     },
     "execution_count": 15,
     "metadata": {},
     "output_type": "execute_result"
    }
   ],
   "source": [
    "len(df_La_Cigale_Tabarka)"
   ]
  },
  {
   "cell_type": "markdown",
   "id": "279328d6",
   "metadata": {},
   "source": [
    "We can then save the scraped reviews as a csv file. Simply change the 'file_directory' based on where you want your file to be saved in your directory."
   ]
  },
  {
   "cell_type": "code",
   "execution_count": 20,
   "id": "dc69a4d6",
   "metadata": {
    "ExecuteTime": {
     "end_time": "2023-06-07T11:26:20.476667Z",
     "start_time": "2023-06-07T11:26:20.430878Z"
    }
   },
   "outputs": [],
   "source": [
    "# Specify the Excel filename\n",
    "file_directory = 'La_Cigale_Tabarka.xlsx'\n",
    "\n",
    "# Write the DataFrame to an Excel file\n",
    "df_La_Cigale_Tabarka.to_excel(file_directory, index=False)"
   ]
  },
  {
   "cell_type": "markdown",
   "id": "864b48ff",
   "metadata": {},
   "source": [
    "Here's a display of the first few rows of our dataset."
   ]
  },
  {
   "cell_type": "code",
   "execution_count": 21,
   "id": "7679cd75",
   "metadata": {
    "ExecuteTime": {
     "end_time": "2023-06-07T11:26:22.142238Z",
     "start_time": "2023-06-07T11:26:22.124376Z"
    }
   },
   "outputs": [
    {
     "data": {
      "text/html": [
       "<div>\n",
       "<style scoped>\n",
       "    .dataframe tbody tr th:only-of-type {\n",
       "        vertical-align: middle;\n",
       "    }\n",
       "\n",
       "    .dataframe tbody tr th {\n",
       "        vertical-align: top;\n",
       "    }\n",
       "\n",
       "    .dataframe thead th {\n",
       "        text-align: right;\n",
       "    }\n",
       "</style>\n",
       "<table border=\"1\" class=\"dataframe\">\n",
       "  <thead>\n",
       "    <tr style=\"text-align: right;\">\n",
       "      <th></th>\n",
       "      <th>reviews</th>\n",
       "      <th>ratings</th>\n",
       "      <th>date</th>\n",
       "    </tr>\n",
       "  </thead>\n",
       "  <tbody>\n",
       "    <tr>\n",
       "      <th>0</th>\n",
       "      <td>The hotel is terrific.  However, the spa is ex...</td>\n",
       "      <td>5</td>\n",
       "      <td>June 2023</td>\n",
       "    </tr>\n",
       "    <tr>\n",
       "      <th>1</th>\n",
       "      <td>Veldig dissappointed of being exempt from my r...</td>\n",
       "      <td>1</td>\n",
       "      <td>June 2023</td>\n",
       "    </tr>\n",
       "    <tr>\n",
       "      <th>2</th>\n",
       "      <td>We come to Tunisia from Texas every year in Ma...</td>\n",
       "      <td>1</td>\n",
       "      <td>May 2023</td>\n",
       "    </tr>\n",
       "    <tr>\n",
       "      <th>3</th>\n",
       "      <td>I have stayed in many luxurious hotels in diff...</td>\n",
       "      <td>5</td>\n",
       "      <td>January 2023</td>\n",
       "    </tr>\n",
       "    <tr>\n",
       "      <th>4</th>\n",
       "      <td>La cigale Tabarka is the most amazing and wond...</td>\n",
       "      <td>5</td>\n",
       "      <td>December 2022</td>\n",
       "    </tr>\n",
       "  </tbody>\n",
       "</table>\n",
       "</div>"
      ],
      "text/plain": [
       "                                             reviews  ratings           date\n",
       "0  The hotel is terrific.  However, the spa is ex...        5      June 2023\n",
       "1  Veldig dissappointed of being exempt from my r...        1      June 2023\n",
       "2  We come to Tunisia from Texas every year in Ma...        1       May 2023\n",
       "3  I have stayed in many luxurious hotels in diff...        5   January 2023\n",
       "4  La cigale Tabarka is the most amazing and wond...        5  December 2022"
      ]
     },
     "execution_count": 21,
     "metadata": {},
     "output_type": "execute_result"
    }
   ],
   "source": [
    "df_La_Cigale_Tabarka.head()"
   ]
  },
  {
   "cell_type": "markdown",
   "id": "6ce8d749",
   "metadata": {},
   "source": [
    "For sanity check, we can count the number of unique row values of our dataset."
   ]
  },
  {
   "cell_type": "code",
   "execution_count": 22,
   "id": "649c735c",
   "metadata": {
    "ExecuteTime": {
     "end_time": "2023-06-07T11:26:25.135852Z",
     "start_time": "2023-06-07T11:26:25.116951Z"
    }
   },
   "outputs": [
    {
     "data": {
      "text/plain": [
       "reviews    65\n",
       "ratings     5\n",
       "date       39\n",
       "dtype: int64"
      ]
     },
     "execution_count": 22,
     "metadata": {},
     "output_type": "execute_result"
    }
   ],
   "source": [
    "df_La_Cigale_Tabarka.nunique()"
   ]
  },
  {
   "cell_type": "markdown",
   "id": "128a5dbc",
   "metadata": {},
   "source": [
    "Here, we display the number of reviews per rating."
   ]
  },
  {
   "cell_type": "code",
   "execution_count": 23,
   "id": "fedcbe05",
   "metadata": {
    "ExecuteTime": {
     "end_time": "2023-06-29T04:03:51.486044Z",
     "start_time": "2023-06-29T04:03:51.458266Z"
    }
   },
   "outputs": [
    {
     "data": {
      "text/html": [
       "<div>\n",
       "<style scoped>\n",
       "    .dataframe tbody tr th:only-of-type {\n",
       "        vertical-align: middle;\n",
       "    }\n",
       "\n",
       "    .dataframe tbody tr th {\n",
       "        vertical-align: top;\n",
       "    }\n",
       "\n",
       "    .dataframe thead th {\n",
       "        text-align: right;\n",
       "    }\n",
       "</style>\n",
       "<table border=\"1\" class=\"dataframe\">\n",
       "  <thead>\n",
       "    <tr style=\"text-align: right;\">\n",
       "      <th></th>\n",
       "      <th>reviews</th>\n",
       "      <th>date</th>\n",
       "    </tr>\n",
       "    <tr>\n",
       "      <th>ratings</th>\n",
       "      <th></th>\n",
       "      <th></th>\n",
       "    </tr>\n",
       "  </thead>\n",
       "  <tbody>\n",
       "    <tr>\n",
       "      <th>1</th>\n",
       "      <td>10</td>\n",
       "      <td>10</td>\n",
       "    </tr>\n",
       "    <tr>\n",
       "      <th>2</th>\n",
       "      <td>5</td>\n",
       "      <td>5</td>\n",
       "    </tr>\n",
       "    <tr>\n",
       "      <th>3</th>\n",
       "      <td>6</td>\n",
       "      <td>6</td>\n",
       "    </tr>\n",
       "    <tr>\n",
       "      <th>4</th>\n",
       "      <td>5</td>\n",
       "      <td>5</td>\n",
       "    </tr>\n",
       "    <tr>\n",
       "      <th>5</th>\n",
       "      <td>39</td>\n",
       "      <td>39</td>\n",
       "    </tr>\n",
       "  </tbody>\n",
       "</table>\n",
       "</div>"
      ],
      "text/plain": [
       "         reviews  date\n",
       "ratings               \n",
       "1             10    10\n",
       "2              5     5\n",
       "3              6     6\n",
       "4              5     5\n",
       "5             39    39"
      ]
     },
     "execution_count": 23,
     "metadata": {},
     "output_type": "execute_result"
    }
   ],
   "source": [
    "df_La_Cigale_Tabarka.groupby('ratings').count()"
   ]
  },
  {
   "cell_type": "markdown",
   "id": "b10f0583",
   "metadata": {
    "ExecuteTime": {
     "end_time": "2023-06-07T11:26:27.310120Z",
     "start_time": "2023-06-07T11:26:27.290072Z"
    }
   },
   "source": [
    "Looks great!"
   ]
  },
  {
   "cell_type": "markdown",
   "id": "815bf71e",
   "metadata": {},
   "source": [
    "## Hotel Name: La Badira"
   ]
  },
  {
   "cell_type": "code",
   "execution_count": 24,
   "id": "abf5eed9",
   "metadata": {
    "ExecuteTime": {
     "end_time": "2023-06-07T11:30:07.048979Z",
     "start_time": "2023-06-07T11:26:31.990422Z"
    }
   },
   "outputs": [],
   "source": [
    "# Crimson Resort and Spa Boracay\n",
    "url_La_Badira = '/Hotel_Review-g297943-d6677898-Reviews-La_Badira-Hammamet_Nabeul_Governorate.html'\n",
    "df_La_Badira = scrape_reviews(main, url_La_Badira, 1500)"
   ]
  },
  {
   "cell_type": "code",
   "execution_count": 25,
   "id": "40e5c16b",
   "metadata": {
    "ExecuteTime": {
     "end_time": "2023-06-07T11:30:07.093497Z",
     "start_time": "2023-06-07T11:30:07.053008Z"
    }
   },
   "outputs": [],
   "source": [
    "# Specify the Excel filename\n",
    "file_directory = 'Badira.xlsx'\n",
    "\n",
    "# Write the DataFrame to an Excel file\n",
    "df_La_Badira.to_excel(file_directory, index=False)"
   ]
  },
  {
   "cell_type": "code",
   "execution_count": 26,
   "id": "4e2d8e09",
   "metadata": {
    "ExecuteTime": {
     "end_time": "2023-06-07T11:30:07.105555Z",
     "start_time": "2023-06-07T11:30:07.096317Z"
    }
   },
   "outputs": [
    {
     "data": {
      "text/html": [
       "<div>\n",
       "<style scoped>\n",
       "    .dataframe tbody tr th:only-of-type {\n",
       "        vertical-align: middle;\n",
       "    }\n",
       "\n",
       "    .dataframe tbody tr th {\n",
       "        vertical-align: top;\n",
       "    }\n",
       "\n",
       "    .dataframe thead th {\n",
       "        text-align: right;\n",
       "    }\n",
       "</style>\n",
       "<table border=\"1\" class=\"dataframe\">\n",
       "  <thead>\n",
       "    <tr style=\"text-align: right;\">\n",
       "      <th></th>\n",
       "      <th>reviews</th>\n",
       "      <th>ratings</th>\n",
       "      <th>date</th>\n",
       "    </tr>\n",
       "  </thead>\n",
       "  <tbody>\n",
       "    <tr>\n",
       "      <th>0</th>\n",
       "      <td>Great stay at « la badira », the overall exper...</td>\n",
       "      <td>5</td>\n",
       "      <td>July 2023</td>\n",
       "    </tr>\n",
       "    <tr>\n",
       "      <th>1</th>\n",
       "      <td>Best hotel in Tunisia for couples: best breakf...</td>\n",
       "      <td>5</td>\n",
       "      <td>August 2023</td>\n",
       "    </tr>\n",
       "    <tr>\n",
       "      <th>2</th>\n",
       "      <td>A lovely hotel a little out of town but close ...</td>\n",
       "      <td>5</td>\n",
       "      <td>July 2023</td>\n",
       "    </tr>\n",
       "    <tr>\n",
       "      <th>3</th>\n",
       "      <td>I spent almost a week in la Badira hôtel and I...</td>\n",
       "      <td>5</td>\n",
       "      <td>July 2023</td>\n",
       "    </tr>\n",
       "    <tr>\n",
       "      <th>4</th>\n",
       "      <td>Have stayed at some pretty posh hotels like th...</td>\n",
       "      <td>5</td>\n",
       "      <td>June 2023</td>\n",
       "    </tr>\n",
       "  </tbody>\n",
       "</table>\n",
       "</div>"
      ],
      "text/plain": [
       "                                             reviews  ratings         date\n",
       "0  Great stay at « la badira », the overall exper...        5    July 2023\n",
       "1  Best hotel in Tunisia for couples: best breakf...        5  August 2023\n",
       "2  A lovely hotel a little out of town but close ...        5    July 2023\n",
       "3  I spent almost a week in la Badira hôtel and I...        5    July 2023\n",
       "4  Have stayed at some pretty posh hotels like th...        5    June 2023"
      ]
     },
     "execution_count": 26,
     "metadata": {},
     "output_type": "execute_result"
    }
   ],
   "source": [
    "df_La_Badira.head()"
   ]
  },
  {
   "cell_type": "code",
   "execution_count": 27,
   "id": "a8228b78",
   "metadata": {
    "ExecuteTime": {
     "end_time": "2023-06-07T11:30:07.117631Z",
     "start_time": "2023-06-07T11:30:07.108737Z"
    }
   },
   "outputs": [
    {
     "data": {
      "text/plain": [
       "reviews    434\n",
       "ratings      5\n",
       "date        96\n",
       "dtype: int64"
      ]
     },
     "execution_count": 27,
     "metadata": {},
     "output_type": "execute_result"
    }
   ],
   "source": [
    "df_La_Badira.nunique()"
   ]
  },
  {
   "cell_type": "code",
   "execution_count": 28,
   "id": "44d8dd9c",
   "metadata": {
    "ExecuteTime": {
     "end_time": "2023-06-07T11:30:07.129465Z",
     "start_time": "2023-06-07T11:30:07.119740Z"
    }
   },
   "outputs": [
    {
     "data": {
      "text/html": [
       "<div>\n",
       "<style scoped>\n",
       "    .dataframe tbody tr th:only-of-type {\n",
       "        vertical-align: middle;\n",
       "    }\n",
       "\n",
       "    .dataframe tbody tr th {\n",
       "        vertical-align: top;\n",
       "    }\n",
       "\n",
       "    .dataframe thead th {\n",
       "        text-align: right;\n",
       "    }\n",
       "</style>\n",
       "<table border=\"1\" class=\"dataframe\">\n",
       "  <thead>\n",
       "    <tr style=\"text-align: right;\">\n",
       "      <th></th>\n",
       "      <th>reviews</th>\n",
       "      <th>date</th>\n",
       "    </tr>\n",
       "    <tr>\n",
       "      <th>ratings</th>\n",
       "      <th></th>\n",
       "      <th></th>\n",
       "    </tr>\n",
       "  </thead>\n",
       "  <tbody>\n",
       "    <tr>\n",
       "      <th>1</th>\n",
       "      <td>8</td>\n",
       "      <td>8</td>\n",
       "    </tr>\n",
       "    <tr>\n",
       "      <th>2</th>\n",
       "      <td>4</td>\n",
       "      <td>4</td>\n",
       "    </tr>\n",
       "    <tr>\n",
       "      <th>3</th>\n",
       "      <td>11</td>\n",
       "      <td>11</td>\n",
       "    </tr>\n",
       "    <tr>\n",
       "      <th>4</th>\n",
       "      <td>46</td>\n",
       "      <td>46</td>\n",
       "    </tr>\n",
       "    <tr>\n",
       "      <th>5</th>\n",
       "      <td>365</td>\n",
       "      <td>365</td>\n",
       "    </tr>\n",
       "  </tbody>\n",
       "</table>\n",
       "</div>"
      ],
      "text/plain": [
       "         reviews  date\n",
       "ratings               \n",
       "1              8     8\n",
       "2              4     4\n",
       "3             11    11\n",
       "4             46    46\n",
       "5            365   365"
      ]
     },
     "execution_count": 28,
     "metadata": {},
     "output_type": "execute_result"
    }
   ],
   "source": [
    "df_La_Badira.groupby('ratings').count()"
   ]
  },
  {
   "cell_type": "markdown",
   "id": "1d2b2e26",
   "metadata": {},
   "source": [
    "## Hotel Name: Four_Seasons_Hotel"
   ]
  },
  {
   "cell_type": "code",
   "execution_count": 34,
   "id": "ed9b19e9",
   "metadata": {
    "ExecuteTime": {
     "end_time": "2023-06-07T11:32:36.871756Z",
     "start_time": "2023-06-07T11:30:07.131871Z"
    }
   },
   "outputs": [],
   "source": [
    "# Four_Seasons_Hotel_Tunis Hotel\n",
    "url_Four_Seasons_Hotel_Tunis = '/Hotel_Review-g297942-d13144748-Reviews-Four_Seasons_Hotel_Tunis-Gammarth_Tunis_Governorate.html'\n",
    "df_Four_Seasons_Hotel_Tunis = scrape_reviews(main, url_Four_Seasons_Hotel_Tunis, 1500)"
   ]
  },
  {
   "cell_type": "code",
   "execution_count": 35,
   "id": "13737a59",
   "metadata": {
    "ExecuteTime": {
     "end_time": "2023-06-07T11:32:36.884428Z",
     "start_time": "2023-06-07T11:32:36.874814Z"
    }
   },
   "outputs": [
    {
     "data": {
      "text/html": [
       "<div>\n",
       "<style scoped>\n",
       "    .dataframe tbody tr th:only-of-type {\n",
       "        vertical-align: middle;\n",
       "    }\n",
       "\n",
       "    .dataframe tbody tr th {\n",
       "        vertical-align: top;\n",
       "    }\n",
       "\n",
       "    .dataframe thead th {\n",
       "        text-align: right;\n",
       "    }\n",
       "</style>\n",
       "<table border=\"1\" class=\"dataframe\">\n",
       "  <thead>\n",
       "    <tr style=\"text-align: right;\">\n",
       "      <th></th>\n",
       "      <th>reviews</th>\n",
       "      <th>ratings</th>\n",
       "      <th>date</th>\n",
       "    </tr>\n",
       "  </thead>\n",
       "  <tbody>\n",
       "    <tr>\n",
       "      <th>0</th>\n",
       "      <td>This is the 8th Four Seasons we have stayed at...</td>\n",
       "      <td>3</td>\n",
       "      <td>August 2023</td>\n",
       "    </tr>\n",
       "    <tr>\n",
       "      <th>1</th>\n",
       "      <td>The best hotel in Tunisia without a doubt.The ...</td>\n",
       "      <td>5</td>\n",
       "      <td>July 2023</td>\n",
       "    </tr>\n",
       "    <tr>\n",
       "      <th>2</th>\n",
       "      <td>Calm, clean with attentive and well trained st...</td>\n",
       "      <td>5</td>\n",
       "      <td>June 2023</td>\n",
       "    </tr>\n",
       "    <tr>\n",
       "      <th>3</th>\n",
       "      <td>This is a very special place and what makes it...</td>\n",
       "      <td>5</td>\n",
       "      <td>June 2023</td>\n",
       "    </tr>\n",
       "    <tr>\n",
       "      <th>4</th>\n",
       "      <td>We enjoyed an absolutely wonderful 4 night sta...</td>\n",
       "      <td>5</td>\n",
       "      <td>June 2023</td>\n",
       "    </tr>\n",
       "  </tbody>\n",
       "</table>\n",
       "</div>"
      ],
      "text/plain": [
       "                                             reviews  ratings         date\n",
       "0  This is the 8th Four Seasons we have stayed at...        3  August 2023\n",
       "1  The best hotel in Tunisia without a doubt.The ...        5    July 2023\n",
       "2  Calm, clean with attentive and well trained st...        5    June 2023\n",
       "3  This is a very special place and what makes it...        5    June 2023\n",
       "4  We enjoyed an absolutely wonderful 4 night sta...        5    June 2023"
      ]
     },
     "execution_count": 35,
     "metadata": {},
     "output_type": "execute_result"
    }
   ],
   "source": [
    "df_Four_Seasons_Hotel_Tunis.head()"
   ]
  },
  {
   "cell_type": "code",
   "execution_count": 36,
   "id": "3d8e854f",
   "metadata": {
    "ExecuteTime": {
     "end_time": "2023-06-07T11:32:36.896879Z",
     "start_time": "2023-06-07T11:32:36.886589Z"
    }
   },
   "outputs": [
    {
     "data": {
      "text/html": [
       "<div>\n",
       "<style scoped>\n",
       "    .dataframe tbody tr th:only-of-type {\n",
       "        vertical-align: middle;\n",
       "    }\n",
       "\n",
       "    .dataframe tbody tr th {\n",
       "        vertical-align: top;\n",
       "    }\n",
       "\n",
       "    .dataframe thead th {\n",
       "        text-align: right;\n",
       "    }\n",
       "</style>\n",
       "<table border=\"1\" class=\"dataframe\">\n",
       "  <thead>\n",
       "    <tr style=\"text-align: right;\">\n",
       "      <th></th>\n",
       "      <th>reviews</th>\n",
       "      <th>date</th>\n",
       "    </tr>\n",
       "    <tr>\n",
       "      <th>ratings</th>\n",
       "      <th></th>\n",
       "      <th></th>\n",
       "    </tr>\n",
       "  </thead>\n",
       "  <tbody>\n",
       "    <tr>\n",
       "      <th>1</th>\n",
       "      <td>8</td>\n",
       "      <td>8</td>\n",
       "    </tr>\n",
       "    <tr>\n",
       "      <th>2</th>\n",
       "      <td>11</td>\n",
       "      <td>11</td>\n",
       "    </tr>\n",
       "    <tr>\n",
       "      <th>3</th>\n",
       "      <td>16</td>\n",
       "      <td>16</td>\n",
       "    </tr>\n",
       "    <tr>\n",
       "      <th>4</th>\n",
       "      <td>31</td>\n",
       "      <td>31</td>\n",
       "    </tr>\n",
       "    <tr>\n",
       "      <th>5</th>\n",
       "      <td>158</td>\n",
       "      <td>158</td>\n",
       "    </tr>\n",
       "  </tbody>\n",
       "</table>\n",
       "</div>"
      ],
      "text/plain": [
       "         reviews  date\n",
       "ratings               \n",
       "1              8     8\n",
       "2             11    11\n",
       "3             16    16\n",
       "4             31    31\n",
       "5            158   158"
      ]
     },
     "execution_count": 36,
     "metadata": {},
     "output_type": "execute_result"
    }
   ],
   "source": [
    "df_Four_Seasons_Hotel_Tunis.groupby('ratings').count()"
   ]
  },
  {
   "cell_type": "code",
   "execution_count": 37,
   "id": "3a0dee80",
   "metadata": {
    "ExecuteTime": {
     "end_time": "2023-06-07T11:32:36.931476Z",
     "start_time": "2023-06-07T11:32:36.899512Z"
    }
   },
   "outputs": [],
   "source": [
    "# Specify the Excel filename\n",
    "file_directory = 'Four_Seasons_Hotel_Tunis.xlsx'\n",
    "\n",
    "# Write the DataFrame to an Excel file\n",
    "df_Four_Seasons_Hotel_Tunis.to_excel(file_directory, index=False)"
   ]
  },
  {
   "cell_type": "markdown",
   "id": "71da39ec-fb67-4286-bc66-0640f5d3d7d5",
   "metadata": {},
   "source": [
    "## Hotel Name: Hasdrubal_Thalassa_Spa_Yasmine_Hammamet"
   ]
  },
  {
   "cell_type": "code",
   "execution_count": 38,
   "id": "e876dd9a-e8fb-4ffa-a8f2-25878a92a232",
   "metadata": {},
   "outputs": [],
   "source": [
    "# Hasdrubal_Thalassa_Spa_Yasmine_Hammamet hotel\n",
    "url_Hasdrubal_Thalassa_Spa_Yasmine_Hammamet = '/Hotel_Review-g297943-d302773-Reviews-Hasdrubal_Thalassa_Spa_Yasmine_Hammamet-Hammamet_Nabeul_Governorate.html'\n",
    "df_Hasdrubal_Thalassa_Spa_Yasmine_Hammamet = scrape_reviews(main, url_Four_Seasons_Hotel_Tunis, 1500)"
   ]
  },
  {
   "cell_type": "code",
   "execution_count": 39,
   "id": "6a596b6b-6180-475f-8cf1-24a8ec8d6f4b",
   "metadata": {},
   "outputs": [
    {
     "data": {
      "text/html": [
       "<div>\n",
       "<style scoped>\n",
       "    .dataframe tbody tr th:only-of-type {\n",
       "        vertical-align: middle;\n",
       "    }\n",
       "\n",
       "    .dataframe tbody tr th {\n",
       "        vertical-align: top;\n",
       "    }\n",
       "\n",
       "    .dataframe thead th {\n",
       "        text-align: right;\n",
       "    }\n",
       "</style>\n",
       "<table border=\"1\" class=\"dataframe\">\n",
       "  <thead>\n",
       "    <tr style=\"text-align: right;\">\n",
       "      <th></th>\n",
       "      <th>reviews</th>\n",
       "      <th>ratings</th>\n",
       "      <th>date</th>\n",
       "    </tr>\n",
       "  </thead>\n",
       "  <tbody>\n",
       "    <tr>\n",
       "      <th>0</th>\n",
       "      <td>This is the 8th Four Seasons we have stayed at...</td>\n",
       "      <td>3</td>\n",
       "      <td>August 2023</td>\n",
       "    </tr>\n",
       "    <tr>\n",
       "      <th>1</th>\n",
       "      <td>The best hotel in Tunisia without a doubt.The ...</td>\n",
       "      <td>5</td>\n",
       "      <td>July 2023</td>\n",
       "    </tr>\n",
       "    <tr>\n",
       "      <th>2</th>\n",
       "      <td>Calm, clean with attentive and well trained st...</td>\n",
       "      <td>5</td>\n",
       "      <td>June 2023</td>\n",
       "    </tr>\n",
       "    <tr>\n",
       "      <th>3</th>\n",
       "      <td>This is a very special place and what makes it...</td>\n",
       "      <td>5</td>\n",
       "      <td>June 2023</td>\n",
       "    </tr>\n",
       "    <tr>\n",
       "      <th>4</th>\n",
       "      <td>We enjoyed an absolutely wonderful 4 night sta...</td>\n",
       "      <td>5</td>\n",
       "      <td>June 2023</td>\n",
       "    </tr>\n",
       "  </tbody>\n",
       "</table>\n",
       "</div>"
      ],
      "text/plain": [
       "                                             reviews  ratings         date\n",
       "0  This is the 8th Four Seasons we have stayed at...        3  August 2023\n",
       "1  The best hotel in Tunisia without a doubt.The ...        5    July 2023\n",
       "2  Calm, clean with attentive and well trained st...        5    June 2023\n",
       "3  This is a very special place and what makes it...        5    June 2023\n",
       "4  We enjoyed an absolutely wonderful 4 night sta...        5    June 2023"
      ]
     },
     "execution_count": 39,
     "metadata": {},
     "output_type": "execute_result"
    }
   ],
   "source": [
    "df_Hasdrubal_Thalassa_Spa_Yasmine_Hammamet.head()"
   ]
  },
  {
   "cell_type": "code",
   "execution_count": 40,
   "id": "a0e3b1e0-aace-43bd-9153-52272f23aefd",
   "metadata": {},
   "outputs": [
    {
     "data": {
      "text/html": [
       "<div>\n",
       "<style scoped>\n",
       "    .dataframe tbody tr th:only-of-type {\n",
       "        vertical-align: middle;\n",
       "    }\n",
       "\n",
       "    .dataframe tbody tr th {\n",
       "        vertical-align: top;\n",
       "    }\n",
       "\n",
       "    .dataframe thead th {\n",
       "        text-align: right;\n",
       "    }\n",
       "</style>\n",
       "<table border=\"1\" class=\"dataframe\">\n",
       "  <thead>\n",
       "    <tr style=\"text-align: right;\">\n",
       "      <th></th>\n",
       "      <th>reviews</th>\n",
       "      <th>date</th>\n",
       "    </tr>\n",
       "    <tr>\n",
       "      <th>ratings</th>\n",
       "      <th></th>\n",
       "      <th></th>\n",
       "    </tr>\n",
       "  </thead>\n",
       "  <tbody>\n",
       "    <tr>\n",
       "      <th>1</th>\n",
       "      <td>8</td>\n",
       "      <td>8</td>\n",
       "    </tr>\n",
       "    <tr>\n",
       "      <th>2</th>\n",
       "      <td>11</td>\n",
       "      <td>11</td>\n",
       "    </tr>\n",
       "    <tr>\n",
       "      <th>3</th>\n",
       "      <td>16</td>\n",
       "      <td>16</td>\n",
       "    </tr>\n",
       "    <tr>\n",
       "      <th>4</th>\n",
       "      <td>31</td>\n",
       "      <td>31</td>\n",
       "    </tr>\n",
       "    <tr>\n",
       "      <th>5</th>\n",
       "      <td>158</td>\n",
       "      <td>158</td>\n",
       "    </tr>\n",
       "  </tbody>\n",
       "</table>\n",
       "</div>"
      ],
      "text/plain": [
       "         reviews  date\n",
       "ratings               \n",
       "1              8     8\n",
       "2             11    11\n",
       "3             16    16\n",
       "4             31    31\n",
       "5            158   158"
      ]
     },
     "execution_count": 40,
     "metadata": {},
     "output_type": "execute_result"
    }
   ],
   "source": [
    "df_Hasdrubal_Thalassa_Spa_Yasmine_Hammamet.groupby('ratings').count()"
   ]
  },
  {
   "cell_type": "code",
   "execution_count": 48,
   "id": "fe17125c-39f4-4889-ae0e-37635e746746",
   "metadata": {},
   "outputs": [],
   "source": [
    "# Specify the Excel filename\n",
    "file_directory = 'Hasdrubal_Thalassa_Spa_Yasmine_Hammamet.xlsx'\n",
    "\n",
    "# Write the DataFrame to an Excel file\n",
    "df_Hasdrubal_Thalassa_Spa_Yasmine_Hammamet.to_excel(file_directory, index=False)"
   ]
  },
  {
   "cell_type": "markdown",
   "id": "951d5c25-ad04-4cfa-84f3-9fce98612afc",
   "metadata": {},
   "source": [
    "## Hotel Name: The_Residence_Tunis-Gammarth"
   ]
  },
  {
   "cell_type": "code",
   "execution_count": 44,
   "id": "51152fef-c727-49de-b142-9278b937f6c2",
   "metadata": {},
   "outputs": [],
   "source": [
    "# The_Residence_Tunis-Gammarth hotel\n",
    "url_The_Residence_Tunis_Gammarth = '/Hotel_Review-g297942-d302774-Reviews-The_Residence_Tunis-Gammarth_Tunis_Governorate.html'\n",
    "df_The_Residence_Tunis_Gammarth = scrape_reviews(main, url_The_Residence_Tunis_Gammarth, 1500)"
   ]
  },
  {
   "cell_type": "code",
   "execution_count": 45,
   "id": "dd3333a8-9c23-4862-af4d-23f5f22d9f5e",
   "metadata": {},
   "outputs": [
    {
     "data": {
      "text/html": [
       "<div>\n",
       "<style scoped>\n",
       "    .dataframe tbody tr th:only-of-type {\n",
       "        vertical-align: middle;\n",
       "    }\n",
       "\n",
       "    .dataframe tbody tr th {\n",
       "        vertical-align: top;\n",
       "    }\n",
       "\n",
       "    .dataframe thead th {\n",
       "        text-align: right;\n",
       "    }\n",
       "</style>\n",
       "<table border=\"1\" class=\"dataframe\">\n",
       "  <thead>\n",
       "    <tr style=\"text-align: right;\">\n",
       "      <th></th>\n",
       "      <th>reviews</th>\n",
       "      <th>ratings</th>\n",
       "      <th>date</th>\n",
       "    </tr>\n",
       "  </thead>\n",
       "  <tbody>\n",
       "    <tr>\n",
       "      <th>0</th>\n",
       "      <td>I wanted to post a comment to thank the team a...</td>\n",
       "      <td>5</td>\n",
       "      <td>July 2023</td>\n",
       "    </tr>\n",
       "    <tr>\n",
       "      <th>1</th>\n",
       "      <td>We stay at the residence every summer since 5 ...</td>\n",
       "      <td>5</td>\n",
       "      <td>August 2023</td>\n",
       "    </tr>\n",
       "    <tr>\n",
       "      <th>2</th>\n",
       "      <td>I highly recommend staying at The Residence if...</td>\n",
       "      <td>5</td>\n",
       "      <td>July 2023</td>\n",
       "    </tr>\n",
       "    <tr>\n",
       "      <th>3</th>\n",
       "      <td>Very friendly and helpful personnel, great swi...</td>\n",
       "      <td>5</td>\n",
       "      <td>July 2023</td>\n",
       "    </tr>\n",
       "    <tr>\n",
       "      <th>4</th>\n",
       "      <td>This is a beautiful hotel with great views fro...</td>\n",
       "      <td>4</td>\n",
       "      <td>July 2023</td>\n",
       "    </tr>\n",
       "  </tbody>\n",
       "</table>\n",
       "</div>"
      ],
      "text/plain": [
       "                                             reviews  ratings         date\n",
       "0  I wanted to post a comment to thank the team a...        5    July 2023\n",
       "1  We stay at the residence every summer since 5 ...        5  August 2023\n",
       "2  I highly recommend staying at The Residence if...        5    July 2023\n",
       "3  Very friendly and helpful personnel, great swi...        5    July 2023\n",
       "4  This is a beautiful hotel with great views fro...        4    July 2023"
      ]
     },
     "execution_count": 45,
     "metadata": {},
     "output_type": "execute_result"
    }
   ],
   "source": [
    "df_The_Residence_Tunis_Gammarth.head()"
   ]
  },
  {
   "cell_type": "code",
   "execution_count": 46,
   "id": "fdc09183-8a1a-41d7-b33a-d28c4716017f",
   "metadata": {},
   "outputs": [
    {
     "data": {
      "text/html": [
       "<div>\n",
       "<style scoped>\n",
       "    .dataframe tbody tr th:only-of-type {\n",
       "        vertical-align: middle;\n",
       "    }\n",
       "\n",
       "    .dataframe tbody tr th {\n",
       "        vertical-align: top;\n",
       "    }\n",
       "\n",
       "    .dataframe thead th {\n",
       "        text-align: right;\n",
       "    }\n",
       "</style>\n",
       "<table border=\"1\" class=\"dataframe\">\n",
       "  <thead>\n",
       "    <tr style=\"text-align: right;\">\n",
       "      <th></th>\n",
       "      <th>reviews</th>\n",
       "      <th>date</th>\n",
       "    </tr>\n",
       "    <tr>\n",
       "      <th>ratings</th>\n",
       "      <th></th>\n",
       "      <th></th>\n",
       "    </tr>\n",
       "  </thead>\n",
       "  <tbody>\n",
       "    <tr>\n",
       "      <th>1</th>\n",
       "      <td>14</td>\n",
       "      <td>14</td>\n",
       "    </tr>\n",
       "    <tr>\n",
       "      <th>2</th>\n",
       "      <td>14</td>\n",
       "      <td>14</td>\n",
       "    </tr>\n",
       "    <tr>\n",
       "      <th>3</th>\n",
       "      <td>31</td>\n",
       "      <td>31</td>\n",
       "    </tr>\n",
       "    <tr>\n",
       "      <th>4</th>\n",
       "      <td>109</td>\n",
       "      <td>109</td>\n",
       "    </tr>\n",
       "    <tr>\n",
       "      <th>5</th>\n",
       "      <td>326</td>\n",
       "      <td>326</td>\n",
       "    </tr>\n",
       "  </tbody>\n",
       "</table>\n",
       "</div>"
      ],
      "text/plain": [
       "         reviews  date\n",
       "ratings               \n",
       "1             14    14\n",
       "2             14    14\n",
       "3             31    31\n",
       "4            109   109\n",
       "5            326   326"
      ]
     },
     "execution_count": 46,
     "metadata": {},
     "output_type": "execute_result"
    }
   ],
   "source": [
    "df_The_Residence_Tunis_Gammarth.groupby('ratings').count()"
   ]
  },
  {
   "cell_type": "code",
   "execution_count": 49,
   "id": "b2e132e9-6ccd-4008-b8ed-a3c0bb775a42",
   "metadata": {},
   "outputs": [],
   "source": [
    "# Specify the Excel filename\n",
    "file_directory = 'The_Residence_Tunis_Gammarth.xlsx'\n",
    "\n",
    "# Write the DataFrame to an Excel file\n",
    "df_The_Residence_Tunis_Gammarth.to_excel(file_directory, index=False)"
   ]
  },
  {
   "cell_type": "markdown",
   "id": "be745e9b-8f55-4202-82ff-5db8fbc431b8",
   "metadata": {},
   "source": [
    "## Hotel Name:Radisson_Blu_Palace_Resort_Thalasso_Djerba"
   ]
  },
  {
   "cell_type": "code",
   "execution_count": 50,
   "id": "6894df39-043f-4750-80d1-cf62c722e167",
   "metadata": {},
   "outputs": [],
   "source": [
    "# The_Residence_Tunis-Gammarth hotel\n",
    "url_Radisson_Blu_Palace_Resort_Thalasso_Djerba = '/Hotel_Review-g1951333-d614737-Reviews-Radisson_Blu_Palace_Resort_Thalasso_Djerba-Mezraia_Djerba_Island_Medenine_Governorate.html'\n",
    "df_Radisson_Blu_Palace_Resort_Thalasso_Djerba = scrape_reviews(main, url_Radisson_Blu_Palace_Resort_Thalasso_Djerba, 1500)"
   ]
  },
  {
   "cell_type": "code",
   "execution_count": 51,
   "id": "67844282-1550-4803-9d5e-4b1602306fad",
   "metadata": {},
   "outputs": [
    {
     "data": {
      "text/html": [
       "<div>\n",
       "<style scoped>\n",
       "    .dataframe tbody tr th:only-of-type {\n",
       "        vertical-align: middle;\n",
       "    }\n",
       "\n",
       "    .dataframe tbody tr th {\n",
       "        vertical-align: top;\n",
       "    }\n",
       "\n",
       "    .dataframe thead th {\n",
       "        text-align: right;\n",
       "    }\n",
       "</style>\n",
       "<table border=\"1\" class=\"dataframe\">\n",
       "  <thead>\n",
       "    <tr style=\"text-align: right;\">\n",
       "      <th></th>\n",
       "      <th>reviews</th>\n",
       "      <th>ratings</th>\n",
       "      <th>date</th>\n",
       "    </tr>\n",
       "  </thead>\n",
       "  <tbody>\n",
       "    <tr>\n",
       "      <th>0</th>\n",
       "      <td>Djerba Music Land festival poorly organised.  ...</td>\n",
       "      <td>1</td>\n",
       "      <td>August 2023</td>\n",
       "    </tr>\n",
       "    <tr>\n",
       "      <th>1</th>\n",
       "      <td>А wonderful holiday thanks to Sophien who who ...</td>\n",
       "      <td>5</td>\n",
       "      <td>June 2023</td>\n",
       "    </tr>\n",
       "    <tr>\n",
       "      <th>2</th>\n",
       "      <td>On the beach Mezraria you may have a wonderful...</td>\n",
       "      <td>5</td>\n",
       "      <td>July 2023</td>\n",
       "    </tr>\n",
       "    <tr>\n",
       "      <th>3</th>\n",
       "      <td>We have been to the radisson blu djerba plenty...</td>\n",
       "      <td>5</td>\n",
       "      <td>July 2023</td>\n",
       "    </tr>\n",
       "    <tr>\n",
       "      <th>4</th>\n",
       "      <td>Women with muslim swimwear are being discrimin...</td>\n",
       "      <td>1</td>\n",
       "      <td>July 2023</td>\n",
       "    </tr>\n",
       "  </tbody>\n",
       "</table>\n",
       "</div>"
      ],
      "text/plain": [
       "                                             reviews  ratings         date\n",
       "0  Djerba Music Land festival poorly organised.  ...        1  August 2023\n",
       "1  А wonderful holiday thanks to Sophien who who ...        5    June 2023\n",
       "2  On the beach Mezraria you may have a wonderful...        5    July 2023\n",
       "3  We have been to the radisson blu djerba plenty...        5    July 2023\n",
       "4  Women with muslim swimwear are being discrimin...        1    July 2023"
      ]
     },
     "execution_count": 51,
     "metadata": {},
     "output_type": "execute_result"
    }
   ],
   "source": [
    "df_Radisson_Blu_Palace_Resort_Thalasso_Djerba.head()"
   ]
  },
  {
   "cell_type": "code",
   "execution_count": 52,
   "id": "cb76998d-bc83-4ba5-8d51-ade16c3ff2bf",
   "metadata": {},
   "outputs": [
    {
     "data": {
      "text/html": [
       "<div>\n",
       "<style scoped>\n",
       "    .dataframe tbody tr th:only-of-type {\n",
       "        vertical-align: middle;\n",
       "    }\n",
       "\n",
       "    .dataframe tbody tr th {\n",
       "        vertical-align: top;\n",
       "    }\n",
       "\n",
       "    .dataframe thead th {\n",
       "        text-align: right;\n",
       "    }\n",
       "</style>\n",
       "<table border=\"1\" class=\"dataframe\">\n",
       "  <thead>\n",
       "    <tr style=\"text-align: right;\">\n",
       "      <th></th>\n",
       "      <th>reviews</th>\n",
       "      <th>date</th>\n",
       "    </tr>\n",
       "    <tr>\n",
       "      <th>ratings</th>\n",
       "      <th></th>\n",
       "      <th></th>\n",
       "    </tr>\n",
       "  </thead>\n",
       "  <tbody>\n",
       "    <tr>\n",
       "      <th>1</th>\n",
       "      <td>16</td>\n",
       "      <td>16</td>\n",
       "    </tr>\n",
       "    <tr>\n",
       "      <th>2</th>\n",
       "      <td>18</td>\n",
       "      <td>18</td>\n",
       "    </tr>\n",
       "    <tr>\n",
       "      <th>3</th>\n",
       "      <td>34</td>\n",
       "      <td>34</td>\n",
       "    </tr>\n",
       "    <tr>\n",
       "      <th>4</th>\n",
       "      <td>74</td>\n",
       "      <td>74</td>\n",
       "    </tr>\n",
       "    <tr>\n",
       "      <th>5</th>\n",
       "      <td>118</td>\n",
       "      <td>118</td>\n",
       "    </tr>\n",
       "  </tbody>\n",
       "</table>\n",
       "</div>"
      ],
      "text/plain": [
       "         reviews  date\n",
       "ratings               \n",
       "1             16    16\n",
       "2             18    18\n",
       "3             34    34\n",
       "4             74    74\n",
       "5            118   118"
      ]
     },
     "execution_count": 52,
     "metadata": {},
     "output_type": "execute_result"
    }
   ],
   "source": [
    "df_Radisson_Blu_Palace_Resort_Thalasso_Djerba.groupby('ratings').count()"
   ]
  },
  {
   "cell_type": "code",
   "execution_count": 53,
   "id": "e8587024-5cc8-4371-b2e6-bb66f4c49fa2",
   "metadata": {},
   "outputs": [],
   "source": [
    "# Specify the Excel filename\n",
    "file_directory = 'TRadisson_Blu_Palace_Resort_Thalasso_Djerba.xlsx'\n",
    "\n",
    "# Write the DataFrame to an Excel file\n",
    "df_Radisson_Blu_Palace_Resort_Thalasso_Djerba.to_excel(file_directory, index=False)"
   ]
  }
 ],
 "metadata": {
  "kernelspec": {
   "display_name": "Python 3 (ipykernel)",
   "language": "python",
   "name": "python3"
  },
  "language_info": {
   "codemirror_mode": {
    "name": "ipython",
    "version": 3
   },
   "file_extension": ".py",
   "mimetype": "text/x-python",
   "name": "python",
   "nbconvert_exporter": "python",
   "pygments_lexer": "ipython3",
   "version": "3.11.4"
  },
  "toc": {
   "base_numbering": 1,
   "nav_menu": {},
   "number_sections": true,
   "sideBar": true,
   "skip_h1_title": false,
   "title_cell": "Table of Contents",
   "title_sidebar": "Contents",
   "toc_cell": false,
   "toc_position": {},
   "toc_section_display": true,
   "toc_window_display": false
  }
 },
 "nbformat": 4,
 "nbformat_minor": 5
}
