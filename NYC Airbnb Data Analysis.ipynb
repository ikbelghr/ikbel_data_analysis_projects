{
 "cells": [
  {
   "cell_type": "markdown",
   "metadata": {
    "dc": {
     "key": "4"
    },
    "deletable": false,
    "editable": false,
    "run_control": {
     "frozen": true
    },
    "tags": [
     "context"
    ]
   },
   "source": [
    "## 1. Importing the Data\n",
    "<p><img src=\"https://assets.datacamp.com/production/project_1230/img/nyc.jpg\" alt=\"New York City skyline\" width=\"600px\">\n",
    "<br>\n",
    "Welcome to New York City (NYC), one of the most-visited cities in the world. \n",
    "As a result, there are many <a href=\"https://www.airbnb.com/\"><em>Airbnb</em></a> listings to meet the high demand for temporary lodging for anywhere between a few nights to many months. \n",
    "In this notebook, we will take a look at the NYC Airbnb market by combining data from multiple file types like <code>.csv</code>, <code>.tsv</code>, and <code>.xlsx</code>.</p>\n",
    "<p><br><br>\n",
    "We will be working with three datasets:</p>\n",
    "<ol>\n",
    "<li><p><code>\"datasets/airbnb_price.csv\"</code></p></li>\n",
    "<li><p><code>\"datasets/airbnb_room_type.xlsx\"</code></p></li>\n",
    "<li><p><code>\"datasets/airbnb_last_review.tsv\"</code></p></li>\n",
    "</ol>\n",
    "<p><br><br>\n",
    "Our goals are to convert untidy data into appropriate formats to analyze, and answer key questions including:</p>\n",
    "<ul>\n",
    "<li>What is the average price, per night, of an Airbnb listing in NYC? </li>\n",
    "<li>How does the average price of an Airbnb listing, per month, compare to the private rental market? </li>\n",
    "<li>How many adverts are for private rooms? </li>\n",
    "<li>How do Airbnb listing prices compare across the five NYC boroughs?</li>\n",
    "</ul>"
   ]
  },
  {
   "cell_type": "code",
   "execution_count": 1,
   "metadata": {
    "dc": {
     "key": "4"
    },
    "tags": [
     "sample_code"
    ]
   },
   "outputs": [
    {
     "name": "stderr",
     "output_type": "stream",
     "text": [
      "C:\\Users\\USER\\anaconda3\\lib\\site-packages\\scipy\\__init__.py:155: UserWarning: A NumPy version >=1.18.5 and <1.25.0 is required for this version of SciPy (detected version 1.25.2\n",
      "  warnings.warn(f\"A NumPy version >={np_minversion} and <{np_maxversion}\"\n"
     ]
    },
    {
     "name": "stdout",
     "output_type": "stream",
     "text": [
      "   listing_id        price                nbhood_full\n",
      "0        2595  225 dollars         Manhattan, Midtown\n",
      "1        3831   89 dollars     Brooklyn, Clinton Hill\n",
      "2        5099  200 dollars     Manhattan, Murray Hill\n",
      "3        5178   79 dollars  Manhattan, Hell's Kitchen\n",
      "4        5238  150 dollars       Manhattan, Chinatown \n",
      "    listing_id                                description        room_type\n",
      "0        2595                      Skylit Midtown Castle  Entire home/apt\n",
      "1        3831            Cozy Entire Floor of Brownstone  Entire home/apt\n",
      "2        5099  Large Cozy 1 BR Apartment In Midtown East  Entire home/apt\n",
      "3        5178            Large Furnished Room Near B'way     private room\n",
      "4        5238         Cute & Cozy Lower East Side 1 bdrm  Entire home/apt \n",
      "    listing_id    host_name   last_review\n",
      "0        2595     Jennifer   May 21 2019\n",
      "1        3831  LisaRoxanne  July 05 2019\n",
      "2        5099        Chris  June 22 2019\n",
      "3        5178     Shunichi  June 24 2019\n",
      "4        5238          Ben  June 09 2019\n"
     ]
    }
   ],
   "source": [
    "import pandas as pd\n",
    "import numpy as np\n",
    "import datetime as dt\n",
    "import matplotlib.pyplot as plt\n",
    "import seaborn as sns\n",
    "# Load airbnb_price.csv, prices\n",
    "prices = pd.read_csv(\"datasets/airbnb_price.csv\")\n",
    "\n",
    "# Load airbnb_room_type.xlsx, xls\n",
    "xls = pd.ExcelFile(\"datasets/airbnb_room_type.xlsx\")\n",
    "\n",
    "# Parse the first sheet from xls, room_types\n",
    "room_types = xls.parse(0)\n",
    "\n",
    "# Load airbnb_last_review.tsv, reviews\n",
    "reviews = pd.read_csv(\"datasets/airbnb_last_review.tsv\", sep=\"\\t\")\n",
    "\n",
    "# Print the first five rows of each DataFrame\n",
    "print(prices.head(), \"\\n\", room_types.head(), \"\\n\", reviews.head())"
   ]
  },
  {
   "cell_type": "markdown",
   "metadata": {
    "dc": {
     "key": "13"
    },
    "deletable": false,
    "editable": false,
    "run_control": {
     "frozen": true
    },
    "tags": [
     "context"
    ]
   },
   "source": [
    "## 2. Cleaning the price column\n",
    "<p>Now the <code>DataFrames</code> have been loaded, the first step is to calculate the average price per listing by <code>room_type</code>. </p>\n",
    "<p>You may have noticed that the <code>price</code> column in the <code>prices</code> DataFrame currently states each value as a string with the currency (dollars) following, i.e.,</p>\n",
    "<pre><code>price\n",
    "225 dollars\n",
    "89 dollars\n",
    "200 dollars</code></pre>\n",
    "<p></p>\n",
    "<p>We will need to clean the column in order to calculate the average price.</p>"
   ]
  },
  {
   "cell_type": "code",
   "execution_count": 2,
   "metadata": {
    "dc": {
     "key": "13"
    },
    "tags": [
     "sample_code"
    ]
   },
   "outputs": [
    {
     "name": "stdout",
     "output_type": "stream",
     "text": [
      "count    25209.000000\n",
      "mean       141.777936\n",
      "std        147.349137\n",
      "min          0.000000\n",
      "25%         69.000000\n",
      "50%        105.000000\n",
      "75%        175.000000\n",
      "max       7500.000000\n",
      "Name: price, dtype: float64\n"
     ]
    }
   ],
   "source": [
    "# Remove whitespace and string characters from prices column\n",
    "prices[\"price\"] = prices[\"price\"] .str.replace(\" dollars\", \"\")\n",
    "\n",
    "# Convert prices column to numeric datatype\n",
    "prices[\"price\"] =pd.to_numeric(prices[\"price\"])\n",
    "# Print descriptive statistics for the price column\n",
    "print(prices[\"price\"].describe())"
   ]
  },
  {
   "cell_type": "markdown",
   "metadata": {
    "dc": {
     "key": "21"
    },
    "deletable": false,
    "editable": false,
    "run_control": {
     "frozen": true
    },
    "tags": [
     "context"
    ]
   },
   "source": [
    "## 3. Calculating average price\n",
    "<p>We can see three quarters of listings cost \\$175 per night or less. </p>\n",
    "<p>However, there are some outliers including a maximum price of \\$7,500 per night! </p>\n",
    "<p>Some of listings are actually showing as free. Let's remove these from the <code>DataFrame</code>, and calculate the average price.</p>"
   ]
  },
  {
   "cell_type": "code",
   "execution_count": 3,
   "metadata": {
    "dc": {
     "key": "21"
    },
    "tags": [
     "sample_code"
    ]
   },
   "outputs": [
    {
     "name": "stdout",
     "output_type": "stream",
     "text": [
      "The average price per night for an Airbnb listing in NYC is $141.82.\n"
     ]
    }
   ],
   "source": [
    "# Subset prices for listings costing $0, free_listings\n",
    "free_listings = prices[\"price\"] == 0\n",
    "\n",
    "# Update prices by removing all free listings from prices\n",
    "prices = prices.loc[~free_listings]\n",
    "\n",
    "# Calculate the average price, avg_price\n",
    "avg_price = round(prices[\"price\"].mean(), 2)\n",
    "\n",
    "# Print the average price\n",
    "print(\"The average price per night for an Airbnb listing in NYC is ${}.\".format(avg_price))"
   ]
  },
  {
   "cell_type": "markdown",
   "metadata": {
    "dc": {
     "key": "29"
    },
    "deletable": false,
    "editable": false,
    "run_control": {
     "frozen": true
    },
    "tags": [
     "context"
    ]
   },
   "source": [
    "## 4. Comparing costs to the private rental market\n",
    "<p>Now we know how much a listing costs, on average, per night, but it would be useful to have a benchmark for comparison. \n",
    "According to <a href=\"https://www.zumper.com/rent-research\">Zumper</a>, a 1 bedroom apartment in New York City costs, on average, $3,100 per month. Let's convert the per night prices of our listings into monthly costs, so we can compare to the private market. </p>"
   ]
  },
  {
   "cell_type": "code",
   "execution_count": 4,
   "metadata": {
    "dc": {
     "key": "29"
    },
    "tags": [
     "sample_code"
    ]
   },
   "outputs": [
    {
     "name": "stdout",
     "output_type": "stream",
     "text": [
      "Airbnb monthly costs are $4313.61, while in the private market you would pay $3,100.00.\n"
     ]
    }
   ],
   "source": [
    "# Add a new column to the prices DataFrame, price_per_month\n",
    "prices[\"price_per_month\"] = prices[\"price\"] * 365 / 12\n",
    "\n",
    "# Calculate average_price_per_month\n",
    "average_price_per_month = round(prices[\"price_per_month\"].mean(), 2)\n",
    "\n",
    "# Compare Airbnb and rental market\n",
    "print(\"Airbnb monthly costs are ${}, while in the private market you would pay {}.\".format(average_price_per_month, \"$3,100.00\"))"
   ]
  },
  {
   "cell_type": "markdown",
   "metadata": {
    "dc": {
     "key": "37"
    },
    "deletable": false,
    "editable": false,
    "run_control": {
     "frozen": true
    },
    "tags": [
     "context"
    ]
   },
   "source": [
    "## 5. Cleaning the room type column\n",
    "<p>Unsurprisingly, using Airbnb appears to be substantially more expensive than the private rental market. We should, however, consider that these Airbnb listings include single private rooms or even rooms to share, as well as entire homes/apartments. \n",
    "<br><br>\n",
    "Let's dive deeper into the <code>room_type</code> column to find out the breakdown of listings by type of room. The <code>room_type</code> column has several variations for <code>private room</code> listings, specifically: </p>\n",
    "<ul>\n",
    "<li>\"Private room\"</li>\n",
    "<li>\"private room\"</li>\n",
    "<li>\"PRIVATE ROOM\"</li>\n",
    "</ul>\n",
    "<p>We can solve this by converting all string characters to lower case (upper case would also work just fine). </p>"
   ]
  },
  {
   "cell_type": "code",
   "execution_count": 5,
   "metadata": {
    "dc": {
     "key": "37"
    },
    "tags": [
     "sample_code"
    ]
   },
   "outputs": [
    {
     "name": "stdout",
     "output_type": "stream",
     "text": [
      "entire home/apt    13266\n",
      "private room       11356\n",
      "shared room          587\n",
      "Name: room_type, dtype: int64\n"
     ]
    }
   ],
   "source": [
    "# Convert the room_type column to lowercase\n",
    "room_types[\"room_type\"] = room_types[\"room_type\"].str.lower()\n",
    "\n",
    "# Update the room_type column to category data type\n",
    "room_types[\"room_type\"] = room_types[\"room_type\"].astype(\"category\")\n",
    "\n",
    "# Create the variable room_frequencies\n",
    "room_frequencies = room_types[\"room_type\"].value_counts()\n",
    "\n",
    "# Print room_frequencies\n",
    "print(room_frequencies)"
   ]
  },
  {
   "cell_type": "code",
   "execution_count": 6,
   "metadata": {},
   "outputs": [
    {
     "data": {
      "image/png": "[encoded data removed]",
      "text/plain": [
       "<Figure size 800x800 with 1 Axes>"
      ]
     },
     "metadata": {},
     "output_type": "display_data"
    }
   ],
   "source": [
    "#Distribution of Room Types\n",
    "plt.figure(figsize=(8, 8))\n",
    "room_type_counts = room_types[\"room_type\"].value_counts()\n",
    "plt.pie(room_type_counts, labels=room_type_counts.index, autopct=\"%1.1f%%\", startangle=140)\n",
    "plt.title(\"Distribution of Room Types\")\n",
    "plt.show()\n"
   ]
  },
  {
   "cell_type": "markdown",
   "metadata": {
    "dc": {
     "key": "45"
    },
    "deletable": false,
    "editable": false,
    "run_control": {
     "frozen": true
    },
    "tags": [
     "context"
    ]
   },
   "source": [
    "## 6. What timeframe are we working with?\n",
    "<p>It seems there is a fairly similar sized market opportunity for both private rooms (45% of listings) and entire homes/apartments (52%) on the Airbnb platform in NYC.\n",
    "<br><br></p>\n",
    "<p>Now let's turn our attention to the <code>reviews</code> DataFrame. The <code>last_review</code> column contains the date of the last review in the format of \"Month Day Year\" e.g., May 21 2019. We've been asked to find out the earliest and latest review dates in the DataFrame, and ensure the format allows this analysis to be easily conducted going forwards. </p>"
   ]
  },
  {
   "cell_type": "code",
   "execution_count": 7,
   "metadata": {
    "dc": {
     "key": "45"
    },
    "tags": [
     "sample_code"
    ]
   },
   "outputs": [
    {
     "name": "stdout",
     "output_type": "stream",
     "text": [
      "The earliest Airbnb review is 2019-01-01, the latest review is 2019-07-09\n"
     ]
    }
   ],
   "source": [
    "# Change the data type of the last_review column to datetime\n",
    "reviews[\"last_review\"] = pd.to_datetime(reviews[\"last_review\"])\n",
    "\n",
    "# Create first_reviewed, the earliest review date\n",
    "first_reviewed = reviews[\"last_review\"].dt.date.min()\n",
    "\n",
    "# Create last_reviewed, the most recent review date\n",
    "last_reviewed = reviews[\"last_review\"].dt.date.max()\n",
    "\n",
    "# Print the oldest and newest reviews from the DataFrame\n",
    "print(\"The earliest Airbnb review is {}, the latest review is {}\".format(first_reviewed, last_reviewed))"
   ]
  },
  {
   "cell_type": "markdown",
   "metadata": {
    "dc": {
     "key": "53"
    },
    "deletable": false,
    "editable": false,
    "run_control": {
     "frozen": true
    },
    "tags": [
     "context"
    ]
   },
   "source": [
    "## 7. Joining the DataFrames.\n",
    "<p>Now we've extracted the information needed, we will merge the three DataFrames to make any future analysis easier to conduct. Once we have joined the data, we will remove any observations with missing values and check for duplicates.</p>"
   ]
  },
  {
   "cell_type": "code",
   "execution_count": 8,
   "metadata": {
    "dc": {
     "key": "53"
    },
    "tags": [
     "sample_code"
    ]
   },
   "outputs": [
    {
     "name": "stdout",
     "output_type": "stream",
     "text": [
      "There are 0 duplicates in the DataFrame.\n"
     ]
    }
   ],
   "source": [
    "# Merge prices and room_types to create rooms_and_prices\n",
    "rooms_and_prices = prices.merge(room_types, how=\"outer\", on=\"listing_id\")\n",
    "\n",
    "# Merge rooms_and_prices with the reviews DataFrame to create airbnb_merged\n",
    "airbnb_merged = rooms_and_prices.merge(reviews, how=\"outer\", on=\"listing_id\")\n",
    "\n",
    "# Drop missing values from airbnb_merged\n",
    "airbnb_merged.dropna(inplace=True)\n",
    "\n",
    "# Check if there are any duplicate values\n",
    "print(\"There are {} duplicates in the DataFrame.\".format(airbnb_merged.duplicated().sum()))"
   ]
  },
  {
   "cell_type": "markdown",
   "metadata": {
    "dc": {
     "key": "61"
    },
    "deletable": false,
    "editable": false,
    "run_control": {
     "frozen": true
    },
    "tags": [
     "context"
    ]
   },
   "source": [
    "## 8. Analyzing listing prices by NYC borough\n",
    "<p>Now we have combined all data into a single DataFrame, we will turn our attention to understanding the difference in listing prices between <a href=\"https://en.wikipedia.org/wiki/Boroughs_of_New_York_City\">New York City boroughs</a>. \n",
    "We can currently see boroughs listed as the first part of a string within the <code>nbhood_full</code> column, e.g., </p>\n",
    "<pre><code>Manhattan, Midtown\n",
    "Brooklyn, Clinton Hill\n",
    "Manhattan, Murray Hill\n",
    "Manhattan, Hell's Kitchen\n",
    "Manhattan, Chinatown</code></pre>\n",
    "<p></p>\n",
    "<p>We will therefore need to extract this information from the string and store in a new column, <code>borough</code>, for analysis.</p>"
   ]
  },
  {
   "cell_type": "code",
   "execution_count": 9,
   "metadata": {
    "dc": {
     "key": "61"
    },
    "tags": [
     "sample_code"
    ]
   },
   "outputs": [
    {
     "name": "stdout",
     "output_type": "stream",
     "text": [
      "                     sum    mean  median  count\n",
      "borough                                        \n",
      "Manhattan      1898417.0  184.04   149.0  10315\n",
      "Brooklyn       1275250.0  122.02    95.0  10451\n",
      "Queens          320715.0   92.83    70.0   3455\n",
      "Staten Island    22974.0   86.04    71.0    267\n",
      "Bronx            55156.0   79.25    65.0    696\n"
     ]
    }
   ],
   "source": [
    "# Extract information from the nbhood_full column and store as a new column, borough\n",
    "airbnb_merged[\"borough\"] = airbnb_merged[\"nbhood_full\"].str.partition(\",\")[0]\n",
    "\n",
    "# Group by borough and calculate summary statistics\n",
    "boroughs = airbnb_merged.groupby(\"borough\")[\"price\"].agg([\"sum\", \"mean\", \"median\", \"count\"])\n",
    "\n",
    "# Round boroughs to 2 decimal places, and sort by mean in descending order\n",
    "boroughs = boroughs.round(2).sort_values(\"mean\", ascending=False)\n",
    "\n",
    "# Print boroughs\n",
    "print(boroughs)"
   ]
  },
  {
   "cell_type": "markdown",
   "metadata": {
    "dc": {
     "key": "69"
    },
    "deletable": false,
    "editable": false,
    "run_control": {
     "frozen": true
    },
    "tags": [
     "context"
    ]
   },
   "source": [
    "## 9. Price range by borough\n",
    "<p>The above output gives us a summary of prices for listings across the 5 boroughs. In this final task we would like to categorize listings based on whether they fall into specific price ranges, and view this by borough. \n",
    "<br><br>\n",
    "We can do this using percentiles and labels to create a new column, <code>price_range</code>, in the DataFrame.\n",
    "Once we have created the labels, we can then group the data and count frequencies for listings in each price range by borough.\n",
    "<br><br>\n",
    "We will assign the following categories and price ranges:</p>\n",
    "<table>\n",
    "<thead>\n",
    "<tr>\n",
    "<th>label</th>\n",
    "<th>price</th>\n",
    "</tr>\n",
    "</thead>\n",
    "<tbody>\n",
    "<tr>\n",
    "<td><code>Budget</code></td>\n",
    "<td>\\$0-69</td>\n",
    "</tr>\n",
    "<tr>\n",
    "<td><code>Average</code></td>\n",
    "<td>\\$70-175</td>\n",
    "</tr>\n",
    "<tr>\n",
    "<td><code>Expensive</code></td>\n",
    "<td>\\$176-350</td>\n",
    "</tr>\n",
    "<tr>\n",
    "<td><code>Extravagant</code></td>\n",
    "<td>&gt; \\$350</td>\n",
    "</tr>\n",
    "</tbody>\n",
    "</table>"
   ]
  },
  {
   "cell_type": "code",
   "execution_count": 10,
   "metadata": {
    "dc": {
     "key": "69"
    },
    "tags": [
     "sample_code"
    ]
   },
   "outputs": [
    {
     "name": "stdout",
     "output_type": "stream",
     "text": [
      "borough        price_range\n",
      "Bronx          Budget          381\n",
      "               Average         285\n",
      "               Expensive        25\n",
      "               Extravagant       5\n",
      "Brooklyn       Budget         3194\n",
      "               Average        5532\n",
      "               Expensive      1466\n",
      "               Extravagant     259\n",
      "Manhattan      Budget         1148\n",
      "               Average        5285\n",
      "               Expensive      3072\n",
      "               Extravagant     810\n",
      "Queens         Budget         1631\n",
      "               Average        1505\n",
      "               Expensive       291\n",
      "               Extravagant      28\n",
      "Staten Island  Budget          124\n",
      "               Average         123\n",
      "               Expensive        20\n",
      "               Extravagant       0\n",
      "Name: price_range, dtype: int64\n"
     ]
    }
   ],
   "source": [
    "# Create labels for the price range, label_names\n",
    "label_names = [\"Budget\", \"Average\", \"Expensive\", \"Extravagant\"]\n",
    "\n",
    "# Create the label ranges, ranges\n",
    "ranges = [0, 69, 175, 350, np.inf]\n",
    "\n",
    "# Insert new column, price_range, into DataFrame\n",
    "airbnb_merged[\"price_range\"] = pd.cut(airbnb_merged[\"price\"], bins=ranges, labels=label_names)\n",
    "\n",
    "# Calculate occurence frequencies for each label, prices_by_borough\n",
    "prices_by_borough = airbnb_merged.groupby([\"borough\", \"price_range\"])[\"price_range\"].count()\n",
    "print(prices_by_borough)"
   ]
  },
  {
   "cell_type": "code",
   "execution_count": 11,
   "metadata": {},
   "outputs": [
    {
     "data": {
      "image/png": "[encoded data removed]",
      "text/plain": [
       "<Figure size 640x480 with 1 Axes>"
      ]
     },
     "metadata": {},
     "output_type": "display_data"
    }
   ],
   "source": [
    "# Create a stacked bar chart of price ranges by borough\n",
    "prices_by_borough.unstack().plot(kind=\"bar\", stacked=True)\n",
    "plt.xlabel(\"Borough\")\n",
    "plt.ylabel(\"Frequency\")\n",
    "plt.title(\"Price Ranges of Airbnb Listings by Borough\")\n",
    "plt.xticks(rotation=45)\n",
    "plt.legend(title=\"Price Range\")\n",
    "plt.tight_layout()\n",
    "plt.show()\n"
   ]
  }
 ],
 "metadata": {
  "kernelspec": {
   "display_name": "Python 3 (ipykernel)",
   "language": "python",
   "name": "python3"
  },
  "language_info": {
   "codemirror_mode": {
    "name": "ipython",
    "version": 3
   },
   "file_extension": ".py",
   "mimetype": "text/x-python",
   "name": "python",
   "nbconvert_exporter": "python",
   "pygments_lexer": "ipython3",
   "version": "3.9.13"
  }
 },
 "nbformat": 4,
 "nbformat_minor": 2
}
