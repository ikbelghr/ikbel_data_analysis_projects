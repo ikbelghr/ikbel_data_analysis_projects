{
 "cells": [
  {
   "cell_type": "markdown",
   "metadata": {},
   "source": [
    "# Sustainability reports & NLP  \n"
   ]
  },
  {
   "cell_type": "markdown",
   "metadata": {},
   "source": [
    "## Concepts\n",
    "#### Corporate Social Responsibility Reports (CSR)\n",
    "A corporate social responsibility (CSR) report is an internal and external facing document companies use to communicate CSR efforts around environmental, ethical, philanthropic, and economic impacts on the environment and community.    \n",
    "\n",
    "#### Natural Language Processing (NLP)\n",
    "Natural language processing (NLP) is a field of linguistics and machine learning that deals with natural (i.e., human) languages. The goal is to \"understand\" the unstructured text data and produce something new. Examples of NLP tasks are language translation, text summarization, and sentiment analysis.  \n",
    "\n",
    "\n",
    "#### Zero-Shot Learning (ZSL)\n",
    "Human languages are really complex, so it is impossible to train classifiers on every single phrase. Zero-shot learning (ZSL) models allow classification of text into categories unseen by the model during training. These methods work by combining the observed/seen and the non-observed/unseen categories through auxiliary information, which encodes properties of objects.    \n",
    "\n",
    "Other common uses for zero-shot learning models are images and videos. And the uses keep growing, such as activity recognition from sensors.\n"
   ]
  },
  {
   "cell_type": "code",
   "execution_count": 1,
   "metadata": {},
   "outputs": [],
   "source": [
    "# Imports\n",
    "import re\n",
    "import string\n",
    "from collections import defaultdict\n",
    "import pandas as pd\n",
    "import tika\n",
    "import warnings\n",
    "tika.initVM()\n",
    "from tika import parser\n",
    "import nltk\n",
    "import torch\n",
    "from transformers import pipeline  # Hugging Face\n",
    "\n",
    "# Set pandas display options\n",
    "pd.set_option(\"display.max_colwidth\", None) \n",
    "\n",
    "# Ignore warnings\n",
    "warnings.filterwarnings(\"ignore\")\n"
   ]
  },
  {
   "cell_type": "markdown",
   "metadata": {},
   "source": [
    "## Parsing CSR PDFs\n",
    "A non-trivial portion of classifying CSR reports is converting them to a computer-readable format. Companies publish their CSR reports as PDFs, which are notoriously hard to read. Our goal is to extract text as a list of sentences.  \n",
    "\n",
    "We will be doing very simple parsing of a PDF report using the package tika to extract the text, regular expressions to filter and join the text, and NLTK to split the text into sentences.  \n",
    "\n",
    "This is by no means the best way to do it, but it's relatively simple and gets the job done well enough for our purposes. Text cleaning is task-specific, so you need to consider what is sufficient for your problem. "
   ]
  },
  {
   "cell_type": "code",
   "execution_count": 2,
   "metadata": {},
   "outputs": [],
   "source": [
    "class parsePDF:\n",
    "    def __init__(self, url):\n",
    "        self.url = url\n",
    "    \n",
    "    def extract_contents(self):\n",
    "        \"\"\" Extract a pdf's contents using tika. \"\"\"\n",
    "        pdf = parser.from_file(self.url)\n",
    "        self.text = pdf[\"content\"]\n",
    "        return self.text\n",
    "        \n",
    "    \n",
    "    def clean_text(self):\n",
    "        \"\"\" Extract & clean sentences from raw text of pdf. \"\"\"\n",
    "        # Remove non ASCII characters\n",
    "        printables = set(string.printable)\n",
    "        self.text = \"\".join(filter(lambda x: x in printables, self.text))\n",
    "\n",
    "        # Replace tabs with spaces\n",
    "        self.text = re.sub(r\"\\t+\", r\" \", self.text)\n",
    "\n",
    "        # Aggregate lines where the sentence wraps\n",
    "        # Also, lines in CAPITALS is counted as a header\n",
    "        fragments = []\n",
    "        prev = \"\"\n",
    "        for line in re.split(r\"\\n+\", self.text):\n",
    "            if line.isupper():\n",
    "                prev = \".\"  # skip it\n",
    "            elif line and (line.startswith(\" \") or line[0].islower()\n",
    "                  or not prev.endswith(\".\")):\n",
    "                prev = f\"{prev} {line}\"  # make into one line\n",
    "            else:\n",
    "                fragments.append(prev)\n",
    "                prev = line\n",
    "        fragments.append(prev)\n",
    "\n",
    "        # Clean the lines into sentences\n",
    "        sentences = []\n",
    "        for line in fragments:\n",
    "            # Use regular expressions to clean text\n",
    "            url_str = (r\"((http|https)\\:\\/\\/)?[a-zA-Z0-9\\.\\/\\?\\:@\\-_=#]+\\.\"\n",
    "                       r\"([a-zA-Z]){2,6}([a-zA-Z0-9\\.\\&\\/\\?\\:@\\-_=#])*\")\n",
    "            line = re.sub(url_str, r\" \", line)  # URLs\n",
    "            line = re.sub(r\"^\\s?\\d+(.*)$\", r\"\\1\", line)  # headers\n",
    "            line = re.sub(r\"\\d{5,}\", r\" \", line)  # figures\n",
    "            line = re.sub(r\"\\.+\", \".\", line)  # multiple periods\n",
    "            \n",
    "            line = line.strip()  # leading & trailing spaces\n",
    "            line = re.sub(r\"\\s+\", \" \", line)  # multiple spaces\n",
    "            line = re.sub(r\"\\s?([,:;\\.])\", r\"\\1\", line)  # punctuation spaces\n",
    "            line = re.sub(r\"\\s?-\\s?\", \"-\", line)  # split-line words\n",
    "\n",
    "            # Use nltk to split the line into sentences\n",
    "            for sentence in nltk.sent_tokenize(line):\n",
    "                s = str(sentence).strip().lower()  # lower case\n",
    "                # Exclude tables of contents and short sentences\n",
    "                if \"table of contents\" not in s and len(s) > 5:\n",
    "                    sentences.append(s)\n",
    "        return sentences"
   ]
  },
  {
   "cell_type": "markdown",
   "metadata": {},
   "source": [
    "##### Example: vermeg\n",
    "Here, we're pulling vermeg' 2022 CSR report. We will extract and parse the text in order to move on to classifying it using zero shot learning."
   ]
  },
  {
   "cell_type": "code",
   "execution_count": 3,
   "metadata": {},
   "outputs": [
    {
     "name": "stderr",
     "output_type": "stream",
     "text": [
      "2024-05-10 21:49:34,611 [MainThread  ] [INFO ]  Retrieving https://www.vermeg.com/wp-content/uploads/2020/08/CSR-Report_VERMEG_2022.pdf to C:\\Users\\USER\\AppData\\Local\\Temp/wp-content-uploads-2020-08-csr-report_vermeg_2022.pdf.\n",
      "2024-05-10 21:49:45,241 [MainThread  ] [WARNI]  Failed to see startup log message; retrying...\n",
      "2024-05-10 21:49:50,281 [MainThread  ] [WARNI]  Failed to see startup log message; retrying...\n"
     ]
    },
    {
     "name": "stdout",
     "output_type": "stream",
     "text": [
      "The vermeg CSR report has 336 sentences\n"
     ]
    }
   ],
   "source": [
    "vermeg_url = \"https://www.vermeg.com/wp-content/uploads/2020/08/CSR-Report_VERMEG_2022.pdf\"\n",
    "pp = parsePDF(vermeg_url)\n",
    "pp.extract_contents()\n",
    "sentences = pp.clean_text()\n",
    "\n",
    "print(f\"The vermeg CSR report has {len(sentences):,d} sentences\")"
   ]
  },
  {
   "cell_type": "markdown",
   "metadata": {},
   "source": [
    "## Zero-Shot Learning\n",
    "Zero-shot learning models are extremely helpful when you want to classify text on very specific labels and don't have labeled data. Labeled data can be difficult, expensive, and tedious to acquire, so zero-shot learning provides a quick way to get a classification without specialized data and additional model training.   \n",
    "\n",
    "We are going to define industry-specific ESG categories and ask our model to classify each sentence in our CSR report. We will get a \"score\" that shows how confident the model is that that label applies. A score of 1.0 means that that sentence is definitely about that topic. Conversely, a score of 0.0 means that the sentence definitely doesn't relate to that topic.  \n",
    "\n",
    "The downside to zero-shot learning is that it is extremely slow compared to models trained on specific labels. It basically has to compute \"what it means to be that label\" then it has to check if your sentence \"is that label.\""
   ]
  },
  {
   "cell_type": "code",
   "execution_count": 4,
   "metadata": {},
   "outputs": [],
   "source": [
    "class ZeroShotClassifier:\n",
    "\n",
    "    def create_zsl_model(self, model_name):\n",
    "        \"\"\" Create the zero-shot learning model. \"\"\"\n",
    "        self.model = pipeline(\"zero-shot-classification\", model=model_name)\n",
    "    \n",
    "        \n",
    "    def classify_text(self, text, categories):\n",
    "        \"\"\"\n",
    "        Classify text(s) to the pre-defined categories using a\n",
    "        zero-shot classification model and return the raw results.\n",
    "        \"\"\"\n",
    "        # Classify text using the zero-shot transformers model\n",
    "        hypothesis_template = \"This text is about {}.\"\n",
    "        result = self.model(text, categories, multi_label=True,\n",
    "                            hypothesis_template=hypothesis_template)\n",
    "        return result\n",
    "\n",
    "    \n",
    "    def text_labels(self, text, category_dict, cutoff=None):\n",
    "        \"\"\"\n",
    "        Classify a text into the pre-defined categories. If cutoff\n",
    "        is defined, return only those entries where the score > cutoff\n",
    "        \"\"\"\n",
    "        # Run the model on our categories\n",
    "        categories = list(category_dict.keys())\n",
    "        result = (self.classify_text(text, categories))\n",
    "        \n",
    "        # Format as a pandas dataframe and add ESG label\n",
    "        df = pd.DataFrame(result).explode([\"labels\", \"scores\"])\n",
    "        df[\"ESG\"] = df.labels.map(category_dict)\n",
    "    \n",
    "        # If a cutoff is provided, filter the dataframe\n",
    "        if cutoff:\n",
    "            df = df[df.scores.gt(cutoff)].copy()\n",
    "        return df.reset_index(drop=True)"
   ]
  },
  {
   "cell_type": "markdown",
   "metadata": {},
   "source": [
    "##### Pre-Define Labels\n",
    "The labels chosen below are based on categories and topics used by ESG scoring companies.  \n",
    "We define the plain-english version, which is what will be searched by the zero-shot learning model, as well as the general \"ESG\" label.  \n",
    "\n",
    "Because of how zero-shot learning models work, inference time will increase linearly with the number of labels you define. Therefore, it is necessary to consider which labels you really want and how much time is acceptable for text classification."
   ]
  },
  {
   "cell_type": "code",
   "execution_count": 9,
   "metadata": {},
   "outputs": [],
   "source": [
    "# Define categories we want to classify\n",
    "esg_categories = {\n",
    "    \"emissions\": \"E\",\n",
    "    \"pollution\": \"E\",\n",
    "    \"diversity and inclusion\": \"S\",\n",
    "    \"health and safety\": \"S\",\n",
    "    \"training and education\": \"S\",\n",
    "    \"transparancy\": \"G\",\n",
    "    \"board accountability\": \"G\",\n",
    "    \"data privacy\": \"G\",  \n",
    "    \"corporate ethics\": \"G\",  \n",
    "\n",
    "}"
   ]
  },
  {
   "cell_type": "markdown",
   "metadata": {},
   "source": [
    "##### Getting Text Classification\n",
    "Now, all we have to do is define the model and make predictions. The architecture of the model can be chosen from any text-classification model on [Hugging Face](https://huggingface.co/models).  \n"
   ]
  },
  {
   "cell_type": "code",
   "execution_count": 6,
   "metadata": {},
   "outputs": [
    {
     "data": {
      "application/vnd.jupyter.widget-view+json": {
       "model_id": "76dbd6a0a7d744d8af5afb5db3e80534",
       "version_major": 2,
       "version_minor": 0
      },
      "text/plain": [
       "Downloading model.safetensors:   0%|          | 0.00/369M [00:00<?, ?B/s]"
      ]
     },
     "metadata": {},
     "output_type": "display_data"
    },
    {
     "data": {
      "application/vnd.jupyter.widget-view+json": {
       "model_id": "52d84d8117ad434fb359862305bea11b",
       "version_major": 2,
       "version_minor": 0
      },
      "text/plain": [
       "Downloading tokenizer_config.json:   0%|          | 0.00/1.28k [00:00<?, ?B/s]"
      ]
     },
     "metadata": {},
     "output_type": "display_data"
    },
    {
     "data": {
      "application/vnd.jupyter.widget-view+json": {
       "model_id": "33c61c39093047d3b7e6f2a808cabbe6",
       "version_major": 2,
       "version_minor": 0
      },
      "text/plain": [
       "Downloading spm.model:   0%|          | 0.00/2.46M [00:00<?, ?B/s]"
      ]
     },
     "metadata": {},
     "output_type": "display_data"
    },
    {
     "data": {
      "application/vnd.jupyter.widget-view+json": {
       "model_id": "e6d24072554c4783b234da64a2ec0e47",
       "version_major": 2,
       "version_minor": 0
      },
      "text/plain": [
       "Downloading tokenizer.json:   0%|          | 0.00/8.66M [00:00<?, ?B/s]"
      ]
     },
     "metadata": {},
     "output_type": "display_data"
    },
    {
     "data": {
      "application/vnd.jupyter.widget-view+json": {
       "model_id": "147a46de1c0941f78d6c60e015521bfe",
       "version_major": 2,
       "version_minor": 0
      },
      "text/plain": [
       "Downloading added_tokens.json:   0%|          | 0.00/23.0 [00:00<?, ?B/s]"
      ]
     },
     "metadata": {},
     "output_type": "display_data"
    },
    {
     "data": {
      "application/vnd.jupyter.widget-view+json": {
       "model_id": "30f458870c67493580c7c11aff6b9316",
       "version_major": 2,
       "version_minor": 0
      },
      "text/plain": [
       "Downloading (…)cial_tokens_map.json:   0%|          | 0.00/286 [00:00<?, ?B/s]"
      ]
     },
     "metadata": {},
     "output_type": "display_data"
    }
   ],
   "source": [
    "# Define and Create the zero-shot learning model\n",
    "model_name = \"MoritzLaurer/DeBERTa-v3-base-mnli-fever-anli\" \n",
    "ZSC = ZeroShotClassifier()\n",
    "ZSC.create_zsl_model(model_name)\n",
    "    # Note: the warning is expected, so ignore it"
   ]
  },
  {
   "cell_type": "code",
   "execution_count": 10,
   "metadata": {},
   "outputs": [
    {
     "data": {
      "text/html": [
       "<div>\n",
       "<style scoped>\n",
       "    .dataframe tbody tr th:only-of-type {\n",
       "        vertical-align: middle;\n",
       "    }\n",
       "\n",
       "    .dataframe tbody tr th {\n",
       "        vertical-align: top;\n",
       "    }\n",
       "\n",
       "    .dataframe thead th {\n",
       "        text-align: right;\n",
       "    }\n",
       "</style>\n",
       "<table border=\"1\" class=\"dataframe\">\n",
       "  <thead>\n",
       "    <tr style=\"text-align: right;\">\n",
       "      <th></th>\n",
       "      <th>sequence</th>\n",
       "      <th>labels</th>\n",
       "      <th>scores</th>\n",
       "      <th>ESG</th>\n",
       "    </tr>\n",
       "  </thead>\n",
       "  <tbody>\n",
       "    <tr>\n",
       "      <th>389</th>\n",
       "      <td>mousser jerbi, the groups coo and myriam sanhaji, the groups csro, have deliberately chosen to ask the staff for their views and ensure that they want to follow the path taken by the companys founder.</td>\n",
       "      <td>corporate ethics</td>\n",
       "      <td>0.7642</td>\n",
       "      <td>G</td>\n",
       "    </tr>\n",
       "    <tr>\n",
       "      <th>1165</th>\n",
       "      <td>in addition, leaders are considering to update the materiality matrix by interviewing external stakeholders in the coming years.</td>\n",
       "      <td>pollution</td>\n",
       "      <td>0.002301</td>\n",
       "      <td>E</td>\n",
       "    </tr>\n",
       "    <tr>\n",
       "      <th>55</th>\n",
       "      <td>also, we reviewed our target carbon neutrality objectives to align with the post covid world.</td>\n",
       "      <td>board accountability</td>\n",
       "      <td>0.306766</td>\n",
       "      <td>G</td>\n",
       "    </tr>\n",
       "    <tr>\n",
       "      <th>1417</th>\n",
       "      <td>anonymous whistleblowing process implemented in the internal system with public access from vermegs website ( ) to allow any internal or external stakeholders raising alerts on suspected wrongdoing (bribery, fraud or other criminal activity, miscarriages of justice, health and safety risks, damage to the environment, breach of legal or professional obligations, discrimination, managerial practices, labor rights, etc.)</td>\n",
       "      <td>pollution</td>\n",
       "      <td>0.025648</td>\n",
       "      <td>E</td>\n",
       "    </tr>\n",
       "    <tr>\n",
       "      <th>1963</th>\n",
       "      <td>new trendy sports such as paddle, cross fit, pilate, climbing, etc.</td>\n",
       "      <td>transparancy</td>\n",
       "      <td>0.009291</td>\n",
       "      <td>G</td>\n",
       "    </tr>\n",
       "    <tr>\n",
       "      <th>2803</th>\n",
       "      <td>suppliers and subcontractors who minimize the waste generated).</td>\n",
       "      <td>data privacy</td>\n",
       "      <td>0.001359</td>\n",
       "      <td>G</td>\n",
       "    </tr>\n",
       "    <tr>\n",
       "      <th>278</th>\n",
       "      <td>urging vermeg stakeholders to read &amp; sign its csr policies handbook and ethics policy describing its code of conduct to achieve its commitment to sustainable development, vermeg has implemented policies, procedures and controls in the organization demonstrating concrete proofs as: all day-to-day activities and efficient services of the group company are in line with the chart and principles of corporate social responsibility (csr) all stakeholders (investors, suppliers, business partners, etc.)</td>\n",
       "      <td>data privacy</td>\n",
       "      <td>0.000069</td>\n",
       "      <td>G</td>\n",
       "    </tr>\n",
       "    <tr>\n",
       "      <th>1658</th>\n",
       "      <td>in 2022, global emissions increased to reach 2533 teq co2 (uncertainty around 19%) againt 1560 teq co2 in 2021, but 3190 teq co2 in 2019.</td>\n",
       "      <td>transparancy</td>\n",
       "      <td>0.271825</td>\n",
       "      <td>G</td>\n",
       "    </tr>\n",
       "    <tr>\n",
       "      <th>2930</th>\n",
       "      <td>key indicators for sustainable impact improvement as a key player in the financial industry, our mission is to offer the best solutions available to advise and support individuals, businesses and institutions in the development of their projects and to ensure a positive long-term impact on the business, social and environmental world around us.</td>\n",
       "      <td>training and education</td>\n",
       "      <td>0.000382</td>\n",
       "      <td>S</td>\n",
       "    </tr>\n",
       "    <tr>\n",
       "      <th>2461</th>\n",
       "      <td>indeed today, whatever the field in which the company operates, it has become vital to meet the expectations resulting from the international standards for sustainable development in its specific business area.</td>\n",
       "      <td>data privacy</td>\n",
       "      <td>0.007402</td>\n",
       "      <td>G</td>\n",
       "    </tr>\n",
       "    <tr>\n",
       "      <th>283</th>\n",
       "      <td>must also be committed to these csr principles.</td>\n",
       "      <td>transparancy</td>\n",
       "      <td>0.287776</td>\n",
       "      <td>G</td>\n",
       "    </tr>\n",
       "    <tr>\n",
       "      <th>1679</th>\n",
       "      <td>this global scope continues to exclude the emissions from work-home commute, which was measured again in 2022 via a global survey, and estimated to 702 teq co2 (againt 1305 teq co2 in the previous survey 2017).</td>\n",
       "      <td>diversity and inclusion</td>\n",
       "      <td>0.004141</td>\n",
       "      <td>S</td>\n",
       "    </tr>\n",
       "    <tr>\n",
       "      <th>1022</th>\n",
       "      <td>implement an effective policy to save energy, the climate and natural resources.</td>\n",
       "      <td>health and safety</td>\n",
       "      <td>0.000128</td>\n",
       "      <td>S</td>\n",
       "    </tr>\n",
       "    <tr>\n",
       "      <th>1511</th>\n",
       "      <td>in fact, following an analysis of the journeys made by staff with little access to public transport, the use of individuals cars and taxis remain huge, so additional meeting points were created in the staffs main residential areas to increase collective transport.</td>\n",
       "      <td>pollution</td>\n",
       "      <td>0.000093</td>\n",
       "      <td>E</td>\n",
       "    </tr>\n",
       "    <tr>\n",
       "      <th>101</th>\n",
       "      <td>life is beautiful.</td>\n",
       "      <td>training and education</td>\n",
       "      <td>0.197385</td>\n",
       "      <td>S</td>\n",
       "    </tr>\n",
       "    <tr>\n",
       "      <th>1082</th>\n",
       "      <td>equality in the regions 10.</td>\n",
       "      <td>training and education</td>\n",
       "      <td>0.075978</td>\n",
       "      <td>S</td>\n",
       "    </tr>\n",
       "    <tr>\n",
       "      <th>1066</th>\n",
       "      <td>ensure the fair distribution of value creation.</td>\n",
       "      <td>training and education</td>\n",
       "      <td>0.1139</td>\n",
       "      <td>S</td>\n",
       "    </tr>\n",
       "    <tr>\n",
       "      <th>2559</th>\n",
       "      <td>in addition to the continuous awareness campaigns on the group lms, vermeg regularly communicates to employees about security best practices related to the use of the internet, it tools, and the company files and data.</td>\n",
       "      <td>corporate ethics</td>\n",
       "      <td>0.004568</td>\n",
       "      <td>G</td>\n",
       "    </tr>\n",
       "    <tr>\n",
       "      <th>200</th>\n",
       "      <td>by signing the un gc, vermeg is devoted to applying the 10 fundamental principles and to report annually on its progress made in the 4 areas highlighted for all adherents regardless their activity sector.</td>\n",
       "      <td>corporate ethics</td>\n",
       "      <td>0.129749</td>\n",
       "      <td>G</td>\n",
       "    </tr>\n",
       "    <tr>\n",
       "      <th>2085</th>\n",
       "      <td>employees from all countries travel to the groups various offices and work on the sites of their clients countries.</td>\n",
       "      <td>health and safety</td>\n",
       "      <td>0.00144</td>\n",
       "      <td>S</td>\n",
       "    </tr>\n",
       "  </tbody>\n",
       "</table>\n",
       "</div>"
      ],
      "text/plain": [
       "                                                                                                                                                                                                                                                                                                                                                                                                                                                                                                                 sequence  \\\n",
       "389                                                                                                                                                                                                                                                                                                              mousser jerbi, the groups coo and myriam sanhaji, the groups csro, have deliberately chosen to ask the staff for their views and ensure that they want to follow the path taken by the companys founder.   \n",
       "1165                                                                                                                                                                                                                                                                                                                                                                                     in addition, leaders are considering to update the materiality matrix by interviewing external stakeholders in the coming years.   \n",
       "55                                                                                                                                                                                                                                                                                                                                                                                                                          also, we reviewed our target carbon neutrality objectives to align with the post covid world.   \n",
       "1417                                                                                anonymous whistleblowing process implemented in the internal system with public access from vermegs website ( ) to allow any internal or external stakeholders raising alerts on suspected wrongdoing (bribery, fraud or other criminal activity, miscarriages of justice, health and safety risks, damage to the environment, breach of legal or professional obligations, discrimination, managerial practices, labor rights, etc.)   \n",
       "1963                                                                                                                                                                                                                                                                                                                                                                                                                                                  new trendy sports such as paddle, cross fit, pilate, climbing, etc.   \n",
       "2803                                                                                                                                                                                                                                                                                                                                                                                                                                                      suppliers and subcontractors who minimize the waste generated).   \n",
       "278   urging vermeg stakeholders to read & sign its csr policies handbook and ethics policy describing its code of conduct to achieve its commitment to sustainable development, vermeg has implemented policies, procedures and controls in the organization demonstrating concrete proofs as: all day-to-day activities and efficient services of the group company are in line with the chart and principles of corporate social responsibility (csr) all stakeholders (investors, suppliers, business partners, etc.)   \n",
       "1658                                                                                                                                                                                                                                                                                                                                                                            in 2022, global emissions increased to reach 2533 teq co2 (uncertainty around 19%) againt 1560 teq co2 in 2021, but 3190 teq co2 in 2019.   \n",
       "2930                                                                                                                                                           key indicators for sustainable impact improvement as a key player in the financial industry, our mission is to offer the best solutions available to advise and support individuals, businesses and institutions in the development of their projects and to ensure a positive long-term impact on the business, social and environmental world around us.   \n",
       "2461                                                                                                                                                                                                                                                                                                   indeed today, whatever the field in which the company operates, it has become vital to meet the expectations resulting from the international standards for sustainable development in its specific business area.   \n",
       "283                                                                                                                                                                                                                                                                                                                                                                                                                                                                       must also be committed to these csr principles.   \n",
       "1679                                                                                                                                                                                                                                                                                                   this global scope continues to exclude the emissions from work-home commute, which was measured again in 2022 via a global survey, and estimated to 702 teq co2 (againt 1305 teq co2 in the previous survey 2017).   \n",
       "1022                                                                                                                                                                                                                                                                                                                                                                                                                                     implement an effective policy to save energy, the climate and natural resources.   \n",
       "1511                                                                                                                                                                                                                                             in fact, following an analysis of the journeys made by staff with little access to public transport, the use of individuals cars and taxis remain huge, so additional meeting points were created in the staffs main residential areas to increase collective transport.   \n",
       "101                                                                                                                                                                                                                                                                                                                                                                                                                                                                                                    life is beautiful.   \n",
       "1082                                                                                                                                                                                                                                                                                                                                                                                                                                                                                          equality in the regions 10.   \n",
       "1066                                                                                                                                                                                                                                                                                                                                                                                                                                                                      ensure the fair distribution of value creation.   \n",
       "2559                                                                                                                                                                                                                                                                                           in addition to the continuous awareness campaigns on the group lms, vermeg regularly communicates to employees about security best practices related to the use of the internet, it tools, and the company files and data.   \n",
       "200                                                                                                                                                                                                                                                                                                          by signing the un gc, vermeg is devoted to applying the 10 fundamental principles and to report annually on its progress made in the 4 areas highlighted for all adherents regardless their activity sector.   \n",
       "2085                                                                                                                                                                                                                                                                                                                                                                                                  employees from all countries travel to the groups various offices and work on the sites of their clients countries.   \n",
       "\n",
       "                       labels    scores ESG  \n",
       "389          corporate ethics    0.7642   G  \n",
       "1165                pollution  0.002301   E  \n",
       "55       board accountability  0.306766   G  \n",
       "1417                pollution  0.025648   E  \n",
       "1963             transparancy  0.009291   G  \n",
       "2803             data privacy  0.001359   G  \n",
       "278              data privacy  0.000069   G  \n",
       "1658             transparancy  0.271825   G  \n",
       "2930   training and education  0.000382   S  \n",
       "2461             data privacy  0.007402   G  \n",
       "283              transparancy  0.287776   G  \n",
       "1679  diversity and inclusion  0.004141   S  \n",
       "1022        health and safety  0.000128   S  \n",
       "1511                pollution  0.000093   E  \n",
       "101    training and education  0.197385   S  \n",
       "1082   training and education  0.075978   S  \n",
       "1066   training and education    0.1139   S  \n",
       "2559         corporate ethics  0.004568   G  \n",
       "200          corporate ethics  0.129749   G  \n",
       "2085        health and safety   0.00144   S  "
      ]
     },
     "execution_count": 10,
     "metadata": {},
     "output_type": "execute_result"
    }
   ],
   "source": [
    "# Classify all the sentences in the report\n",
    "    # Note: this takes a while\n",
    "classified = ZSC.text_labels(sentences, esg_categories)\n",
    "classified.sample(n=20)  # display 20 random records\n"
   ]
  },
  {
   "cell_type": "code",
   "execution_count": 13,
   "metadata": {},
   "outputs": [
    {
     "data": {
      "text/html": [
       "<div>\n",
       "<style scoped>\n",
       "    .dataframe tbody tr th:only-of-type {\n",
       "        vertical-align: middle;\n",
       "    }\n",
       "\n",
       "    .dataframe tbody tr th {\n",
       "        vertical-align: top;\n",
       "    }\n",
       "\n",
       "    .dataframe thead th {\n",
       "        text-align: right;\n",
       "    }\n",
       "</style>\n",
       "<table border=\"1\" class=\"dataframe\">\n",
       "  <thead>\n",
       "    <tr style=\"text-align: right;\">\n",
       "      <th></th>\n",
       "      <th>sequence</th>\n",
       "      <th>labels</th>\n",
       "      <th>scores</th>\n",
       "      <th>ESG</th>\n",
       "    </tr>\n",
       "  </thead>\n",
       "  <tbody>\n",
       "    <tr>\n",
       "      <th>54</th>\n",
       "      <td>also, we reviewed our target carbon neutrality objectives to align with the post covid world.</td>\n",
       "      <td>emissions</td>\n",
       "      <td>0.954821</td>\n",
       "      <td>E</td>\n",
       "    </tr>\n",
       "    <tr>\n",
       "      <th>1449</th>\n",
       "      <td>minimizing our environment impact although its environmental impact is naturally low due to the primarily intellectual nature of its services, vermeg continues to carry out an annual carbon assessment to measure its greenhouse gas (ghg) emissions over its financial year and constantly questions its working methods to reduce the environmental footprint of all its activities and limit waste.</td>\n",
       "      <td>emissions</td>\n",
       "      <td>0.989547</td>\n",
       "      <td>E</td>\n",
       "    </tr>\n",
       "    <tr>\n",
       "      <th>1494</th>\n",
       "      <td>provide shuttle buses to limit the emissions from staff home/work travel by mutualizing transport morning and night for tunis offices.</td>\n",
       "      <td>emissions</td>\n",
       "      <td>0.996736</td>\n",
       "      <td>E</td>\n",
       "    </tr>\n",
       "    <tr>\n",
       "      <th>1495</th>\n",
       "      <td>provide shuttle buses to limit the emissions from staff home/work travel by mutualizing transport morning and night for tunis offices.</td>\n",
       "      <td>pollution</td>\n",
       "      <td>0.952134</td>\n",
       "      <td>E</td>\n",
       "    </tr>\n",
       "    <tr>\n",
       "      <th>1512</th>\n",
       "      <td>reduce diesel cars till banishing them by replacing company cars exclusively with electric or hybrid vehicles if possible in the countries where vermeg operates.</td>\n",
       "      <td>emissions</td>\n",
       "      <td>0.978075</td>\n",
       "      <td>E</td>\n",
       "    </tr>\n",
       "    <tr>\n",
       "      <th>1513</th>\n",
       "      <td>reduce diesel cars till banishing them by replacing company cars exclusively with electric or hybrid vehicles if possible in the countries where vermeg operates.</td>\n",
       "      <td>pollution</td>\n",
       "      <td>0.913205</td>\n",
       "      <td>E</td>\n",
       "    </tr>\n",
       "    <tr>\n",
       "      <th>1629</th>\n",
       "      <td>since 2016, the carbon assessment is carried out annually including all countries where vermeg has offices: belgium, france, luxembourg, tunisia, united kingdom, united states, singapore and hong kong.</td>\n",
       "      <td>emissions</td>\n",
       "      <td>0.993789</td>\n",
       "      <td>E</td>\n",
       "    </tr>\n",
       "    <tr>\n",
       "      <th>1638</th>\n",
       "      <td>for this carbon footprint till 2020 financial year, the initial approach were limited to considering 5 sources (excluding home/work commuting).</td>\n",
       "      <td>emissions</td>\n",
       "      <td>0.976301</td>\n",
       "      <td>E</td>\n",
       "    </tr>\n",
       "    <tr>\n",
       "      <th>1656</th>\n",
       "      <td>in 2022, global emissions increased to reach 2533 teq co2 (uncertainty around 19%) againt 1560 teq co2 in 2021, but 3190 teq co2 in 2019.</td>\n",
       "      <td>emissions</td>\n",
       "      <td>0.997338</td>\n",
       "      <td>E</td>\n",
       "    </tr>\n",
       "    <tr>\n",
       "      <th>1657</th>\n",
       "      <td>in 2022, global emissions increased to reach 2533 teq co2 (uncertainty around 19%) againt 1560 teq co2 in 2021, but 3190 teq co2 in 2019.</td>\n",
       "      <td>pollution</td>\n",
       "      <td>0.939917</td>\n",
       "      <td>E</td>\n",
       "    </tr>\n",
       "  </tbody>\n",
       "</table>\n",
       "</div>"
      ],
      "text/plain": [
       "                                                                                                                                                                                                                                                                                                                                                                                                      sequence  \\\n",
       "54                                                                                                                                                                                                                                                                                                               also, we reviewed our target carbon neutrality objectives to align with the post covid world.   \n",
       "1449  minimizing our environment impact although its environmental impact is naturally low due to the primarily intellectual nature of its services, vermeg continues to carry out an annual carbon assessment to measure its greenhouse gas (ghg) emissions over its financial year and constantly questions its working methods to reduce the environmental footprint of all its activities and limit waste.   \n",
       "1494                                                                                                                                                                                                                                                                    provide shuttle buses to limit the emissions from staff home/work travel by mutualizing transport morning and night for tunis offices.   \n",
       "1495                                                                                                                                                                                                                                                                    provide shuttle buses to limit the emissions from staff home/work travel by mutualizing transport morning and night for tunis offices.   \n",
       "1512                                                                                                                                                                                                                                         reduce diesel cars till banishing them by replacing company cars exclusively with electric or hybrid vehicles if possible in the countries where vermeg operates.   \n",
       "1513                                                                                                                                                                                                                                         reduce diesel cars till banishing them by replacing company cars exclusively with electric or hybrid vehicles if possible in the countries where vermeg operates.   \n",
       "1629                                                                                                                                                                                                 since 2016, the carbon assessment is carried out annually including all countries where vermeg has offices: belgium, france, luxembourg, tunisia, united kingdom, united states, singapore and hong kong.   \n",
       "1638                                                                                                                                                                                                                                                           for this carbon footprint till 2020 financial year, the initial approach were limited to considering 5 sources (excluding home/work commuting).   \n",
       "1656                                                                                                                                                                                                                                                                 in 2022, global emissions increased to reach 2533 teq co2 (uncertainty around 19%) againt 1560 teq co2 in 2021, but 3190 teq co2 in 2019.   \n",
       "1657                                                                                                                                                                                                                                                                 in 2022, global emissions increased to reach 2533 teq co2 (uncertainty around 19%) againt 1560 teq co2 in 2021, but 3190 teq co2 in 2019.   \n",
       "\n",
       "         labels    scores ESG  \n",
       "54    emissions  0.954821   E  \n",
       "1449  emissions  0.989547   E  \n",
       "1494  emissions  0.996736   E  \n",
       "1495  pollution  0.952134   E  \n",
       "1512  emissions  0.978075   E  \n",
       "1513  pollution  0.913205   E  \n",
       "1629  emissions  0.993789   E  \n",
       "1638  emissions  0.976301   E  \n",
       "1656  emissions  0.997338   E  \n",
       "1657  pollution  0.939917   E  "
      ]
     },
     "execution_count": 13,
     "metadata": {},
     "output_type": "execute_result"
    }
   ],
   "source": [
    "# Look at an example of \"E\" classified sentences:\n",
    "E_sentences = classified[classified.scores.gt(0.8) & classified.ESG.eq(\"E\")].copy()\n",
    "E_sentences.head(10)"
   ]
  },
  {
   "cell_type": "code",
   "execution_count": null,
   "metadata": {},
   "outputs": [],
   "source": []
  }
 ],
 "metadata": {
  "kernelspec": {
   "display_name": "Python 3 (ipykernel)",
   "language": "python",
   "name": "python3"
  },
  "language_info": {
   "codemirror_mode": {
    "name": "ipython",
    "version": 3
   },
   "file_extension": ".py",
   "mimetype": "text/x-python",
   "name": "python",
   "nbconvert_exporter": "python",
   "pygments_lexer": "ipython3",
   "version": "3.11.4"
  }
 },
 "nbformat": 4,
 "nbformat_minor": 4
}
